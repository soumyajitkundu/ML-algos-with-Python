{
 "cells": [
  {
   "cell_type": "code",
   "execution_count": 3,
   "metadata": {},
   "outputs": [
    {
     "data": {
      "image/png": "[encoded data removed]",
      "text/plain": [
       "<Figure size 432x288 with 1 Axes>"
      ]
     },
     "metadata": {},
     "output_type": "display_data"
    }
   ],
   "source": [
    "#doing linear regression on two datasets\n",
    "import matplotlib.pyplot as plt\n",
    "import pandas as pd\n",
    "import numpy as np\n",
    "\n",
    "\n",
    "%matplotlib inline\n",
    "\n",
    "patient_data_set={'Serial ID':[2019001,2019002,2019003,2019004,2019005,2019006,2019007,2019008,2019009,2019010,2019011,2019012,2019013,2019014,2019015,2019016,2019017,2019018,2019019,2019020,2019021,2019022,2019023,2019024,2019025,2019026,2019027,2019028,2019029,2019030,2019031,2019032,2019033,2019034,2019035,2019036,2019037,2019038,2019039,2019040],'NAME':['Virat','Ram','Shyam','Joduu','Moduu','Jay','Ray','Mark','Rick','Morty','Bean','Jon','Daenerys','Sansa','Arya','Reek','Srijita','Saptarshi','Soumyajit','Elija','Shreshtha','Akash','Tiyasha','Shis','Triparna','Apurba','Gaurab','Sujoy','Pratik','Sourya','Sandipan','Trishita','Bukai','Aditi','Emily','Gargi','Sujit','Rintu','Debapam','Archika'],'Patient Age':[34,56,78,23,45,68,78,56,45,34,54,45,56,76,78,12,34,23,45,67,45,34,23,45,23,23,34,22,33,45,76,45,57,35,56,23,56,6,42,78]}\n",
    "disease_data_set={'Disease NAME':['Cholera','Viral Fever','Dengue','Marasmus','Cholera','Leukemia','Bone Marrow Cancer','Skin Cancer','AIDS','Syphillis','Ebola','Dirrhoea','Cholera','Dengue','Syphillis','AIDS','Elbow Fracture','AIDS','Dengue','Dengue','Viral Fever','Food Poisoning','Pneumonia','Low Blood perssure','Skin Cancer','Typhoid','Dysentry','Chicken Pox','Small Pox','Piles','Fistula','Diptheria','Cholera','High Cholesterol','Chicken Pox','Chicken Pox','Viral Fever','Child Birth','Diarrhoea','Viral Fever']}\n",
    "medicine_data_set={'Medicine Name':['doxycycline','Crocin','Paracetamol','Z-Clinz','clindamycin','benzoyl peroxide combination''Z-Pak','azithromycin','Zaditor','ketotifen-ophthalmic','zafirlukast','ZAFIRLUKAST ORAL','Zagam','sparfloxacin-oral','zalcitabine','zaleplon','doxycycline','Crocin','Paracetamol','Z-Clinz','clindamycin','doxycycline','Crocin','Paracetamol','Z-Clinz','clindamycin','doxycycline','Crocin','Paracetamol','Z-Clinz','clindamycin','doxycycline','Crocin','Paracetamol','Z-Clinz','clindamycin','doxycycline','Crocin','Paracetamol','Z-Clinz','clindamycin',],'Medicine Price(Rs.)':[290,140,450,789,340,290,140,450,789,340,290,140,450,789,340,290,140,450,789,340,290,140,450,789,340,290,140,450,789,340,290,140,450,789,340,290,140,450,789,340]}\n",
    "doctor_data_set={'Doctor Name':['Dr. Ashok Banerjee','Dr. Ashok Ghosh','Dr. Badal Banerjee','Dr. Supratim Dutta','Dr. Arnab Mondal','Dr. Arnab Dey','Dr. Baisakhi Mondal','Dr. Pallabi Mondal','Dr. Shalini Pandey','Dr. Kanishka Majumder','Dr. Shyam Ghosh','Dr. Arnab Pandey','Dr. Badal Mondal','Dr. Saptarshi Sarkar','Dr. Anirban Majumder','Dr. Anurag Pandey','Dr. Soumyajit Raha','Dr. Shankha Dey','Dr. Tuhin Mukherjee','Dr. Aman Singh','Dr. Sujoy Roy','Dr. Brototi Chakraborty','Dr. Sandipan Gupta','Dr. Tapas Tiwary','Dr. Amit Nandy','Dr. Samrat Bose','Dr. Lipika Paul','Dr. Shritama Ghosh','Dr. Rajib Dey','Dr. Barnali Mondal','Dr. Gargi Ghosh','Dr. Sharmita Kundu','Dr. Sudin Kundu','Dr. Sharmana Chatterjee','Dr. Ajit Bose','Dr. Samaresh Bose','Dr. Sohini Mukherjee','Dr. Subham Das','Dr. Subham Dey','Dr. Arnab Sarkar'],'SPECIALIZATION':['Cardiologist','Cancer','Addiction psychiatrist','Adolescent medicine specialist','Allergist','Anesthesiologis','Cardiac electrophysiologist','Cardiologist','Cardiovascular surgeon','Colon rectal surgeon','Cardiologist','Cancer','Addiction psychiatrist','Adolescent medicine specialist','Allergist','Anesthesiologis','Cardiac electrophysiologist','Cardiologist','Cardiovascular surgeon','Colon rectal surgeon','Cardiologist','Cancer','Addiction psychiatrist','Adolescent medicine specialist','Allergist','Anesthesiologis','Cardiac electrophysiologist','Cardiologist','Cardiovascular surgeon','Colon rectal surgeon','Cardiologist','Cancer','Addiction psychiatrist','Adolescent medicine specialist','Allergist','Anesthesiologis','Cardiac electrophysiologist','Cardiologist','Cardiovascular surgeon','Colon rectal surgeon']}\n",
    "\n",
    "\n",
    "patient_dataframe=pd.DataFrame(patient_data_set)\n",
    "disease_dataframe=pd.DataFrame(disease_data_set)\n",
    "medicine_dataframe=pd.DataFrame(medicine_data_set)\n",
    "doctor_dataframe=pd.DataFrame(doctor_data_set)\n",
    "\n",
    "\n",
    "\n",
    "dataframe=patient_dataframe.join(disease_dataframe).join(medicine_dataframe).join(doctor_dataframe)\n",
    "\n",
    "\n",
    "dataframe.to_csv(\"C:/Users/TUKAI/Desktop/lin_reg_file.csv\")\n",
    "\n",
    "\n",
    "\n",
    "X= patient_dataframe[['Patient Age']]\n",
    "Y= patient_dataframe['Serial ID']\n",
    "\n",
    "# Split the DATA into training/testing sets\n",
    "from sklearn.model_selection import train_test_split\n",
    "x_train,x_test,y_train, y_test = train_test_split(X,Y,test_size=0.2)\n",
    "\n",
    "# Split the TARGETS into training/testing sets\n",
    "from sklearn.linear_model import LinearRegression\n",
    "# Create linear regression object\n",
    "regr = LinearRegression()\n",
    "\n",
    "# Train the model using the training sets\n",
    "regr.fit(x_train, y_train)\n",
    "\n",
    "# Make predictions using the testing set\n",
    "y_pred = regr.predict(x_test)\n",
    "\n",
    "# Plot outputs\n",
    "plt.scatter(x_train, y_train, color = 'blue')\n",
    "plt.plot(x_test, y_pred, color = 'black', linewidth = 2)\n",
    "plt.title('Truth or Bluff (Linear Regression)')\n",
    "plt.xlabel('Patient Age')\n",
    "plt.ylabel('Serial ID')\n",
    "plt.xticks(())\n",
    "plt.yticks(())\n",
    "plt.show()"
   ]
  },
  {
   "cell_type": "code",
   "execution_count": null,
   "metadata": {},
   "outputs": [],
   "source": []
  }
 ],
 "metadata": {
  "kernelspec": {
   "display_name": "Python 3",
   "language": "python",
   "name": "python3"
  },
  "language_info": {
   "codemirror_mode": {
    "name": "ipython",
    "version": 3
   },
   "file_extension": ".py",
   "mimetype": "text/x-python",
   "name": "python",
   "nbconvert_exporter": "python",
   "pygments_lexer": "ipython3",
   "version": "3.7.3"
  }
 },
 "nbformat": 4,
 "nbformat_minor": 2
}
