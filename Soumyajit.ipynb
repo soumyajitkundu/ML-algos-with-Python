{
 "cells": [
  {
   "cell_type": "code",
   "execution_count": 1,
   "metadata": {},
   "outputs": [
    {
     "name": "stdout",
     "output_type": "stream",
     "text": [
      "Hello World!\n"
     ]
    }
   ],
   "source": [
    "print('Hello World!')"
   ]
  },
  {
   "cell_type": "code",
   "execution_count": 3,
   "metadata": {},
   "outputs": [
    {
     "name": "stdout",
     "output_type": "stream",
     "text": [
      "Enter the number:5\n",
      "Factorial is : 120\n"
     ]
    }
   ],
   "source": [
    "num=int(input(\"Enter the number:\"))\n",
    "i=1\n",
    "s=1\n",
    "while(i<=num):\n",
    "    s=s*i\n",
    "    i=i+1\n",
    "print(\"Factorial is :\",s)"
   ]
  },
  {
   "cell_type": "code",
   "execution_count": 2,
   "metadata": {},
   "outputs": [
    {
     "name": "stdout",
     "output_type": "stream",
     "text": [
      "Enter the number:5\n",
      "Factorial is: 120\n"
     ]
    }
   ],
   "source": [
    "num=int(input(\"Enter the number:\"))\n",
    "s=1\n",
    "for i in range(1,num+1):\n",
    "    s=s*i\n",
    "print(\"Factorial is:\",s)\n"
   ]
  },
  {
   "cell_type": "code",
   "execution_count": 7,
   "metadata": {},
   "outputs": [
    {
     "name": "stdout",
     "output_type": "stream",
     "text": [
      "Current letter: S\n",
      "Current letter: o\n",
      "Current letter: u\n",
      "Current letter: m\n",
      "Current letter: y\n",
      "Current letter: a\n"
     ]
    }
   ],
   "source": [
    "for i in 'Soumyajit':\n",
    "    if i =='j':\n",
    "        break\n",
    "    print('Current letter:',i)"
   ]
  },
  {
   "cell_type": "code",
   "execution_count": 9,
   "metadata": {},
   "outputs": [
    {
     "name": "stdout",
     "output_type": "stream",
     "text": [
      "Current letter: S\n",
      "Current letter: o\n",
      "Current letter: u\n",
      "Current letter: m\n",
      "Current letter: a\n",
      "Current letter: j\n",
      "Current letter: i\n",
      "Current letter: t\n"
     ]
    }
   ],
   "source": [
    "for i in 'Soumyajit':\n",
    "    if i=='y':\n",
    "        continue\n",
    "    print('Current letter:',i)"
   ]
  },
  {
   "cell_type": "code",
   "execution_count": 17,
   "metadata": {},
   "outputs": [
    {
     "name": "stdout",
     "output_type": "stream",
     "text": [
      "array('i', [1, 3, 5, 7, 9])\n"
     ]
    }
   ],
   "source": [
    "import array as arr\n",
    "a=arr.array('i',[2,4,6,8,10])\n",
    "\n",
    "for i in range(len(a)):\n",
    "    a[i]-=1\n",
    "print(a)"
   ]
  },
  {
   "cell_type": "code",
   "execution_count": 27,
   "metadata": {},
   "outputs": [
    {
     "name": "stdout",
     "output_type": "stream",
     "text": [
      "array('i', [6, 12, 18, 24, 30])\n"
     ]
    }
   ],
   "source": [
    "import array as arr\n",
    "a=arr.array('i',[2,4,6,8,10])\n",
    "\n",
    "for i in range(len(a)):\n",
    "    a[i]*=3\n",
    "print(a)"
   ]
  },
  {
   "cell_type": "code",
   "execution_count": 33,
   "metadata": {},
   "outputs": [
    {
     "name": "stdout",
     "output_type": "stream",
     "text": [
      "Enter starting range: 10\n",
      "Enter ending range: 20\n",
      "11\n",
      "13\n",
      "17\n",
      "19\n"
     ]
    }
   ],
   "source": [
    "start=int(input(\"Enter starting range: \"))\n",
    "end=int(input(\"Enter ending range: \"))\n",
    "for num in range(start, end + 1):   \n",
    "   if num > 1: \n",
    "       for i in range(2, num): \n",
    "           if (num % i) == 0: \n",
    "               break\n",
    "       else: \n",
    "           print(num) "
   ]
  },
  {
   "cell_type": "code",
   "execution_count": 1,
   "metadata": {},
   "outputs": [
    {
     "name": "stdout",
     "output_type": "stream",
     "text": [
      "Current Letter : P\n",
      "Current Letter : y\n",
      "Current Letter : t\n"
     ]
    }
   ],
   "source": [
    "for letter in 'PythonScript':\n",
    "    if letter != 'h':\n",
    "        print('Current Letter :', letter)\n",
    "\n",
    "    elif letter == 'h':\n",
    "\n",
    "        break\n"
   ]
  },
  {
   "cell_type": "code",
   "execution_count": 12,
   "metadata": {},
   "outputs": [
    {
     "name": "stdout",
     "output_type": "stream",
     "text": [
      "Enter the string: MAAM\n",
      "Yes it is a Palilndrome\n"
     ]
    }
   ],
   "source": [
    "def palindrome(str): #palindrome function defined\n",
    "    a=str[::-1]\n",
    "    if(a==str):\n",
    "        print('Yes it is a Palilndrome')\n",
    "    else:\n",
    "        print('No it is not a Palindrome')\n",
    "n=input('Enter the string: ')\n",
    "palindrome(n)\n"
   ]
  },
  {
   "cell_type": "code",
   "execution_count": 18,
   "metadata": {},
   "outputs": [
    {
     "name": "stdout",
     "output_type": "stream",
     "text": [
      "[[0 1 2]\n",
      " [3 4 5]\n",
      " [6 7 8]]\n"
     ]
    }
   ],
   "source": [
    "#using Numpy\n",
    "import numpy as np\n",
    "z=np.arange(9).reshape(3,3)  #arranging an array and reshaping into matrix 3X3\n",
    "print(z)"
   ]
  },
  {
   "cell_type": "code",
   "execution_count": 16,
   "metadata": {},
   "outputs": [
    {
     "data": {
      "text/plain": [
       "array([1, 2, 3, 4, 5])"
      ]
     },
     "execution_count": 16,
     "metadata": {},
     "output_type": "execute_result"
    }
   ],
   "source": [
    "import numpy as np\n",
    "\n",
    "def selection_sort(x):\n",
    "    for i in range(len(x)):\n",
    "        swap=i+np.argmin(x[i:])\n",
    "        (x[i],x[swap])=(x[swap],x[i])\n",
    "    return x\n",
    "x=np.array([2,1,4,3,5])\n",
    "selection_sort(x)\n",
    "    "
   ]
  },
  {
   "cell_type": "code",
   "execution_count": 17,
   "metadata": {},
   "outputs": [
    {
     "name": "stdout",
     "output_type": "stream",
     "text": [
      "[49 48 47 46 45 44 43 42 41 40 39 38 37 36 35 34 33 32 31 30 29 28 27 26\n",
      " 25 24 23 22 21 20 19 18 17 16 15 14 13 12 11 10  9  8  7  6  5  4  3  2\n",
      "  1  0]\n"
     ]
    }
   ],
   "source": [
    "#printing in reverse\n",
    "z=np.arange(50)\n",
    "z=z[::-1]\n",
    "print(z)"
   ]
  },
  {
   "cell_type": "code",
   "execution_count": 19,
   "metadata": {},
   "outputs": [
    {
     "name": "stdout",
     "output_type": "stream",
     "text": [
      "[1 2 3]\n"
     ]
    }
   ],
   "source": [
    "import numpy as np\n",
    "a=np.array([1,2,3])\n",
    "print(a)"
   ]
  },
  {
   "cell_type": "code",
   "execution_count": 21,
   "metadata": {},
   "outputs": [
    {
     "name": "stdout",
     "output_type": "stream",
     "text": [
      "[[1 2]\n",
      " [3 4]\n",
      " [5 6]]\n"
     ]
    }
   ],
   "source": [
    "import numpy as np\n",
    "a=np.array([[1,2,3],[4,5,6]])\n",
    "a.shape=(3,2)\n",
    "print(a)"
   ]
  },
  {
   "cell_type": "code",
   "execution_count": 22,
   "metadata": {},
   "outputs": [
    {
     "name": "stdout",
     "output_type": "stream",
     "text": [
      "[[1 2]\n",
      " [3 4]\n",
      " [5 6]]\n"
     ]
    }
   ],
   "source": [
    "import numpy as np\n",
    "a=np.array([[1,2,3],[4,5,6]])\n",
    "b=a.reshape(3,2)\n",
    "print(b)"
   ]
  },
  {
   "cell_type": "code",
   "execution_count": 23,
   "metadata": {},
   "outputs": [
    {
     "name": "stdout",
     "output_type": "stream",
     "text": [
      "[ 0  1  2  3  4  5  6  7  8  9 10 11 12 13 14 15 16 17 18 19 20 21 22 23]\n"
     ]
    }
   ],
   "source": [
    "import numpy as np\n",
    "a=np.arange(24)\n",
    "print(a)"
   ]
  },
  {
   "cell_type": "code",
   "execution_count": 24,
   "metadata": {},
   "outputs": [
    {
     "name": "stdout",
     "output_type": "stream",
     "text": [
      "[23 22 21 20 19 18 17 16 15 14 13 12 11 10  9  8  7  6  5  4  3  2  1  0]\n"
     ]
    }
   ],
   "source": [
    "import numpy as np\n",
    "a=np.arange(24) #reverse order\n",
    "a=a[::-1]\n",
    "print(a)"
   ]
  },
  {
   "cell_type": "code",
   "execution_count": 25,
   "metadata": {},
   "outputs": [
    {
     "name": "stdout",
     "output_type": "stream",
     "text": [
      "[[23 22 21 20]\n",
      " [19 18 17 16]\n",
      " [15 14 13 12]\n",
      " [11 10  9  8]\n",
      " [ 7  6  5  4]\n",
      " [ 3  2  1  0]]\n"
     ]
    }
   ],
   "source": [
    "b=a.reshape(6,4)\n",
    "print(b)"
   ]
  },
  {
   "cell_type": "code",
   "execution_count": 26,
   "metadata": {},
   "outputs": [
    {
     "name": "stdout",
     "output_type": "stream",
     "text": [
      "[[ 0  1  2  3  4  5]\n",
      " [ 6  7  8  9 10 11]\n",
      " [12 13 14 15 16 17]\n",
      " [18 19 20 21 22 23]]\n"
     ]
    }
   ],
   "source": [
    "c=a[::-1]\n",
    "d=c.reshape(4,6)\n",
    "print(d)"
   ]
  },
  {
   "cell_type": "code",
   "execution_count": 29,
   "metadata": {},
   "outputs": [
    {
     "name": "stdout",
     "output_type": "stream",
     "text": [
      "[   2.    4.    8.   16.   32.   64.  128.  256.  512. 1024.]\n"
     ]
    }
   ],
   "source": [
    "import numpy as np\n",
    "a=np.logspace(1,10,num=10,base=2) #10 numbers with base 2\n",
    "print(a)"
   ]
  },
  {
   "cell_type": "code",
   "execution_count": 32,
   "metadata": {},
   "outputs": [
    {
     "name": "stdout",
     "output_type": "stream",
     "text": [
      "[3.0000e+00 9.0000e+00 2.7000e+01 8.1000e+01 2.4300e+02 7.2900e+02\n",
      " 2.1870e+03 6.5610e+03 1.9683e+04 5.9049e+04]\n"
     ]
    }
   ],
   "source": [
    "import numpy as np\n",
    "a=np.logspace(1,10,num=10,base=3) #10 numbers with base 3\n",
    "print(a)"
   ]
  },
  {
   "cell_type": "code",
   "execution_count": 33,
   "metadata": {},
   "outputs": [
    {
     "name": "stdout",
     "output_type": "stream",
     "text": [
      "[0. 1. 2. 3. 4.]\n"
     ]
    }
   ],
   "source": [
    "import numpy as np\n",
    "x=np.arange(0,5,1,float) #parameters are start,stop,step size, data type by defaut data type is int\n",
    "print(x)"
   ]
  },
  {
   "cell_type": "code",
   "execution_count": 34,
   "metadata": {},
   "outputs": [
    {
     "name": "stdout",
     "output_type": "stream",
     "text": [
      "Original matirx\n",
      "[[ 0  5 10 15]\n",
      " [20 25 30 35]\n",
      " [40 45 50 55]]\n",
      "\n",
      "\n",
      "Reshaped matrix\n",
      "[[ 0  5]\n",
      " [10 15]\n",
      " [20 25]\n",
      " [30 35]\n",
      " [40 45]\n",
      " [50 55]]\n",
      "\n",
      "\n",
      "Transpose of the reshaped matrix\n",
      "[[ 0 10 20 30 40 50]\n",
      " [ 5 15 25 35 45 55]]\n",
      "\n",
      "\n"
     ]
    }
   ],
   "source": [
    "import numpy as np\n",
    "a=np.arange(0,60,5)\n",
    "a=a.reshape(3,4)\n",
    "c=a.reshape(6,2)  #reshaping\n",
    "\n",
    "print('Original matirx')\n",
    "print(a)\n",
    "print('\\n')\n",
    "\n",
    "print('Reshaped matrix')\n",
    "print(c)\n",
    "print('\\n')\n",
    "\n",
    "print('Transpose of the reshaped matrix')\n",
    "b=c.T #transposing\n",
    "print(b)\n",
    "print('\\n')"
   ]
  },
  {
   "cell_type": "code",
   "execution_count": 37,
   "metadata": {},
   "outputs": [
    {
     "name": "stdout",
     "output_type": "stream",
     "text": [
      "Original matrix\n",
      "[[ 0  5 10 15]\n",
      " [20 25 30 35]\n",
      " [40 45 50 55]]\n",
      "\n",
      "\n",
      "Transpose of the original matrix\n",
      "[[ 0 20 40]\n",
      " [ 5 25 45]\n",
      " [10 30 50]\n",
      " [15 35 55]]\n",
      "\n",
      "\n"
     ]
    }
   ],
   "source": [
    "import numpy as np\n",
    "a=np.arange(0,60,5)\n",
    "a=a.reshape(3,4)\n",
    "\n",
    "print('Original matrix')\n",
    "print(a)\n",
    "print('\\n')\n",
    "\n",
    "print('Transpose of the original matrix')\n",
    "b=a.T\n",
    "print(b)\n",
    "print('\\n')"
   ]
  },
  {
   "cell_type": "code",
   "execution_count": 42,
   "metadata": {},
   "outputs": [
    {
     "name": "stdout",
     "output_type": "stream",
     "text": [
      "Original matirx\n",
      "[[ 0]\n",
      " [ 3]\n",
      " [ 6]\n",
      " [ 9]\n",
      " [12]\n",
      " [15]\n",
      " [18]]\n",
      "\n",
      "\n",
      "Reshaping the orginal matrix\n",
      "[[ 0  3  6  9 12 15 18]]\n",
      "\n",
      "\n",
      "Transpose of the reshaped matix\n",
      "[[ 0]\n",
      " [ 3]\n",
      " [ 6]\n",
      " [ 9]\n",
      " [12]\n",
      " [15]\n",
      " [18]]\n",
      "\n",
      "\n"
     ]
    }
   ],
   "source": [
    "import numpy as np\n",
    "a=np.arange(0,20,3) #using odd numbers\n",
    "a=a.reshape(7,1)\n",
    "c=a.reshape(1,7)\n",
    "\n",
    "print('Original matirx')\n",
    "print(a)\n",
    "print('\\n')\n",
    "\n",
    "print('Reshaping the orginal matrix')\n",
    "print(c)\n",
    "print('\\n')\n",
    "\n",
    "print('Transpose of the reshaped matix')\n",
    "b=c.T #reshaping\n",
    "print(b)\n",
    "print('\\n')"
   ]
  },
  {
   "cell_type": "code",
   "execution_count": 47,
   "metadata": {},
   "outputs": [
    {
     "name": "stdout",
     "output_type": "stream",
     "text": [
      "Incomes=  [48978.61777781 34652.07031112 17822.33945544 ... 24509.5156667\n",
      " 11968.34174454  4420.67606264]\n",
      "Mean of the incomes  20062.031457357694\n"
     ]
    },
    {
     "data": {
      "image/png": "[encoded data removed]",
      "text/plain": [
       "<Figure size 432x288 with 1 Axes>"
      ]
     },
     "metadata": {
      "needs_background": "light"
     },
     "output_type": "display_data"
    }
   ],
   "source": [
    "#plottig a histogram of incomes\n",
    "import numpy as np\n",
    "import matplotlib.pyplot as plt\n",
    "%matplotlib inline\n",
    "incomes=np.random.normal(20000,15000,10000)\n",
    "\n",
    "print('Incomes= ',incomes)\n",
    "\n",
    "a=np.mean(incomes) #calculatig mean\n",
    "print('Mean of the incomes ',a)\n",
    "\n",
    "plt.hist(incomes,50)\n",
    "plt.show()\n",
    "\n",
    "    "
   ]
  },
  {
   "cell_type": "code",
   "execution_count": 46,
   "metadata": {},
   "outputs": [
    {
     "name": "stdout",
     "output_type": "stream",
     "text": [
      "Patients of types 1 cancer  [ 36347.32893406  34698.12298225  24951.5483149  ...  16629.19398563\n",
      "  62157.64043354 -28498.38442476]\n",
      "Patients of type 2 cancer  [ 10846.31124317  10414.43900474  14002.66940761 ...   3750.54755212\n",
      "   4773.25484891 -14341.495509  ]\n",
      "Mean of patients of type 1 cancer  9844.716722482404\n",
      "Mean of patients of type 2 cancer  5013.559321654628\n"
     ]
    },
    {
     "data": {
      "image/png": "[encoded data removed]",
      "text/plain": [
       "<Figure size 432x288 with 1 Axes>"
      ]
     },
     "metadata": {
      "needs_background": "light"
     },
     "output_type": "display_data"
    }
   ],
   "source": [
    "#plotting histogram of 2 types of cancer patients in a hospital\n",
    "#printing the mean of each category\n",
    "\n",
    "import numpy as np\n",
    "import matplotlib.pyplot as plt\n",
    "\n",
    "%matplotlib inline\n",
    "pat1=np.random.normal(10000,20244,2500)\n",
    "pat2=np.random.normal(5009,6567,10786)\n",
    "\n",
    "print('Patients of types 1 cancer ',pat1)\n",
    "print('Patients of type 2 cancer ',pat2)\n",
    "\n",
    "a=np.mean(pat1)\n",
    "print('Mean of patients of type 1 cancer ',a)\n",
    "b=np.mean(pat2)\n",
    "print('Mean of patients of type 2 cancer ',b)\n",
    "\n",
    "plt.hist(pat1,15)\n",
    "plt.hist(pat2,15)\n",
    "plt.show()\n"
   ]
  },
  {
   "cell_type": "code",
   "execution_count": 51,
   "metadata": {},
   "outputs": [
    {
     "name": "stdout",
     "output_type": "stream",
     "text": [
      "Patients of types 1 cancer  [ 8978.58014892 22353.26466719  9741.024508   ... 40160.56425329\n",
      " 42888.30390426 -2385.86348695]\n",
      "Patients of type 2 cancer  [ 5810.98636436  7442.84199677 13016.07354354 ...   455.90925362\n",
      " 17149.61774098 -5346.03829808]\n",
      "Patients of type 3 cancer  [5299.86494227 6292.69508575 3619.6435339  ... 4002.90264782 4991.28311127\n",
      " 2144.25607963]\n",
      "Mean of patients of type 1 cancer  9800.468896070071\n",
      "Mean of patients of type 2 cancer  5000.7966829968755\n",
      "Mean of patients of type 3 cancer  5192.761642693152\n"
     ]
    },
    {
     "data": {
      "image/png": "[encoded data removed]",
      "text/plain": [
       "<Figure size 432x288 with 1 Axes>"
      ]
     },
     "metadata": {
      "needs_background": "light"
     },
     "output_type": "display_data"
    }
   ],
   "source": [
    "#plotting histogram of 3 types of cancer patients in a hospital\n",
    "#printing the mean of each category\n",
    "\n",
    "import numpy as np\n",
    "import matplotlib.pyplot as plt\n",
    "\n",
    "%matplotlib inline\n",
    "pat1=np.random.normal(10000,20244,2500)\n",
    "pat2=np.random.normal(5009,6567,10789)\n",
    "pat3=np.random.normal(5200,1500,89098)\n",
    "\n",
    "print('Patients of types 1 cancer ',pat1)\n",
    "print('Patients of type 2 cancer ',pat2)\n",
    "print('Patients of type 3 cancer ',pat3)\n",
    "\n",
    "a=np.mean(pat1)\n",
    "print('Mean of patients of type 1 cancer ',a)\n",
    "b=np.mean(pat2)\n",
    "print('Mean of patients of type 2 cancer ',b)\n",
    "c=np.mean(pat3)\n",
    "print('Mean of patients of type 3 cancer ',c)\n",
    "\n",
    "plt.hist(pat1,15)\n",
    "plt.hist(pat2,15)\n",
    "plt.hist(pat3,15)\n",
    "plt.show()"
   ]
  },
  {
   "cell_type": "code",
   "execution_count": 1,
   "metadata": {},
   "outputs": [
    {
     "data": {
      "image/png": "[encoded data removed]",
      "text/plain": [
       "<Figure size 432x288 with 1 Axes>"
      ]
     },
     "metadata": {
      "needs_background": "light"
     },
     "output_type": "display_data"
    }
   ],
   "source": [
    "import numpy as np\n",
    "from matplotlib import pyplot as plt\n",
    "\n",
    "%matplotlib inline\n",
    "x=np.arange(1,11)\n",
    "y=2*x+5\n",
    "plt.title('Matplotlib demo')\n",
    "plt.xlabel('X axis caption')\n",
    "plt.ylabel('Y axis caption')\n",
    "plt.plot(x,y)\n",
    "plt.show()"
   ]
  },
  {
   "cell_type": "code",
   "execution_count": 2,
   "metadata": {},
   "outputs": [
    {
     "data": {
      "image/png": "[encoded data removed]",
      "text/plain": [
       "<Figure size 432x288 with 1 Axes>"
      ]
     },
     "metadata": {
      "needs_background": "light"
     },
     "output_type": "display_data"
    }
   ],
   "source": [
    "import numpy as np\n",
    "from matplotlib import pyplot as plt\n",
    "\n",
    "%matplotlib inline\n",
    "x=np.arange(1,11)\n",
    "y=2*x+5\n",
    "plt.title('Matplotlib demo')\n",
    "plt.xlabel('X axis caption')\n",
    "plt.ylabel('Y axis caption')\n",
    "plt.plot(x,y,'.')\n",
    "plt.show()"
   ]
  },
  {
   "cell_type": "code",
   "execution_count": 3,
   "metadata": {},
   "outputs": [
    {
     "data": {
      "image/png": "[encoded data removed]",
      "text/plain": [
       "<Figure size 432x288 with 1 Axes>"
      ]
     },
     "metadata": {
      "needs_background": "light"
     },
     "output_type": "display_data"
    }
   ],
   "source": [
    "import numpy as np\n",
    "import matplotlib.pyplot as plt\n",
    "%matplotlib inline\n",
    "#the subplot() function allows you to plot different things in the same figure\n",
    "\n",
    "x=np.arange(0,3*np.pi,0.1)\n",
    "y=np.sin(x)\n",
    "plt.title('Sine waveform')\n",
    "plt.plot(x,y)\n",
    "plt.show()"
   ]
  },
  {
   "cell_type": "code",
   "execution_count": 4,
   "metadata": {},
   "outputs": [
    {
     "data": {
      "image/png": "[encoded data removed]",
      "text/plain": [
       "<Figure size 432x288 with 1 Axes>"
      ]
     },
     "metadata": {
      "needs_background": "light"
     },
     "output_type": "display_data"
    }
   ],
   "source": [
    "import numpy as np\n",
    "import matplotlib.pyplot as plt\n",
    "%matplotlib inline\n",
    "#the subplot() function allows you to plot different things in the same figure\n",
    "\n",
    "x=np.arange(0,3*np.pi,0.1)\n",
    "y=np.sin(x)\n",
    "z=np.cos(x)\n",
    "\n",
    "plt.title('Sine and Cosine waveform')\n",
    "plt.plot(x,y)\n",
    "plt.plot(x,z)\n",
    "plt.show()"
   ]
  },
  {
   "cell_type": "code",
   "execution_count": 8,
   "metadata": {},
   "outputs": [
    {
     "data": {
      "image/png": "[encoded data removed]",
      "text/plain": [
       "<Figure size 432x288 with 2 Axes>"
      ]
     },
     "metadata": {
      "needs_background": "light"
     },
     "output_type": "display_data"
    }
   ],
   "source": [
    "import numpy as np\n",
    "import matplotlib.pyplot as plt\n",
    "%matplotlib inline\n",
    "#the subplot() function allows you to plot different things in the same figure\n",
    "\n",
    "x=np.arange(0,3*np.pi,0.1)\n",
    "y=np.sin(x)\n",
    "z=np.cos(x)\n",
    "\n",
    "plt.subplot(1,2,1)\n",
    "plt.title('Sine waveform')\n",
    "plt.plot(x,y)\n",
    "plt.subplot(1,2,2)\n",
    "plt.title('Cos waveform')\n",
    "plt.plot(x,z)\n",
    "plt.show()"
   ]
  },
  {
   "cell_type": "code",
   "execution_count": 7,
   "metadata": {},
   "outputs": [
    {
     "name": "stdout",
     "output_type": "stream",
     "text": [
      "0    a\n",
      "1    b\n",
      "2    c\n",
      "dtype: object\n"
     ]
    }
   ],
   "source": [
    "#using pandas package\n",
    "\n",
    "import pandas as pd\n",
    "s=pd.Series(list('abc'))\n",
    "print(s)"
   ]
  },
  {
   "cell_type": "code",
   "execution_count": 10,
   "metadata": {},
   "outputs": [
    {
     "name": "stdout",
     "output_type": "stream",
     "text": [
      "0    a\n",
      "1    b\n",
      "2    c\n",
      "3    d\n",
      "dtype: object\n"
     ]
    }
   ],
   "source": [
    "import pandas as pd\n",
    "import numpy as np\n",
    "data= np.array(['a','b','c','d'])\n",
    "s=pd.Series(data)\n",
    "print(s)"
   ]
  },
  {
   "cell_type": "code",
   "execution_count": 11,
   "metadata": {},
   "outputs": [
    {
     "name": "stdout",
     "output_type": "stream",
     "text": [
      "Dataset1 mean =  2685.050702781859\n",
      "Dataset2 mean =  1022.2860873196305\n",
      "Dataset3 mean =  2903.7744405827552\n"
     ]
    },
    {
     "data": {
      "image/png": "[encoded data removed]",
      "text/plain": [
       "<Figure size 432x288 with 1 Axes>"
      ]
     },
     "metadata": {
      "needs_background": "light"
     },
     "output_type": "display_data"
    },
    {
     "data": {
      "text/plain": [
       "[<matplotlib.lines.Line2D at 0x1aa30913208>]"
      ]
     },
     "execution_count": 11,
     "metadata": {},
     "output_type": "execute_result"
    },
    {
     "data": {
      "image/png": "[encoded data removed]",
      "text/plain": [
       "<Figure size 432x288 with 1 Axes>"
      ]
     },
     "metadata": {
      "needs_background": "light"
     },
     "output_type": "display_data"
    }
   ],
   "source": [
    "import pandas as pd\n",
    "import numpy as np\n",
    "%matplotlib inline\n",
    "import matplotlib.pyplot as plt\n",
    "\n",
    "a=np.random.normal(2700,1500,1000)\n",
    "b=np.random.normal(1000,1200,1500)\n",
    "c=np.random.normal(3000,3200,6700)\n",
    "\n",
    "a1=pd.Series(a)\n",
    "b1=pd.Series(b)\n",
    "c1=pd.Series(c)\n",
    "\n",
    "dataset1_mean=a1.mean()\n",
    "dataset2_mean=b1.mean()\n",
    "dataset3_mean=c1.mean()\n",
    "\n",
    "avg_mean=pd.Series([dataset1_mean, dataset2_mean, dataset3_mean]).mean()\n",
    "\n",
    "print('Dataset1 mean = ',dataset1_mean)\n",
    "print('Dataset2 mean = ',dataset2_mean)\n",
    "print('Dataset3 mean = ',dataset3_mean)\n",
    "\n",
    "plt.hist(avg_mean,15)\n",
    "plt.show()\n",
    "\n",
    "x=avg_mean\n",
    "y=np.sin(x)\n",
    "plt.plot(x,y,'*')"
   ]
  },
  {
   "cell_type": "code",
   "execution_count": 5,
   "metadata": {},
   "outputs": [
    {
     "name": "stdout",
     "output_type": "stream",
     "text": [
      "employee1      1000\n",
      "employee2    250000\n",
      "employee3    645000\n",
      "employee4       650\n",
      "dtype: int64\n",
      "263406.110822718\n"
     ]
    },
    {
     "data": {
      "image/png": "[encoded data removed]",
      "text/plain": [
       "<Figure size 432x288 with 1 Axes>"
      ]
     },
     "metadata": {
      "needs_background": "light"
     },
     "output_type": "display_data"
    },
    {
     "data": {
      "text/plain": [
       "[<matplotlib.lines.Line2D at 0x238c4b3a320>]"
      ]
     },
     "execution_count": 5,
     "metadata": {},
     "output_type": "execute_result"
    },
    {
     "data": {
      "image/png": "[encoded data removed]",
      "text/plain": [
       "<Figure size 432x288 with 1 Axes>"
      ]
     },
     "metadata": {
      "needs_background": "light"
     },
     "output_type": "display_data"
    }
   ],
   "source": [
    "import pandas as pd\n",
    "import numpy as np\n",
    "import matplotlib.pyplot as plt\n",
    "\n",
    "%matplotlib inline\n",
    "\n",
    "#incomes of different employees\n",
    "income=pd.Series([1000,250000,645000,650],['employee1','employee2','employee3','employee4'])\n",
    "#standard deviaton of the income\n",
    "sd=np.std(income)\n",
    "print(income)\n",
    "print(sd)\n",
    "\n",
    "plt.hist(income,15)\n",
    "plt.show()\n",
    "plt.plot(income)"
   ]
  },
  {
   "cell_type": "code",
   "execution_count": 6,
   "metadata": {},
   "outputs": [
    {
     "data": {
      "image/png": "[encoded data removed]",
      "text/plain": [
       "<Figure size 432x288 with 1 Axes>"
      ]
     },
     "metadata": {
      "needs_background": "light"
     },
     "output_type": "display_data"
    }
   ],
   "source": [
    "#histogram of the standard deviation\n",
    "import pandas as pd\n",
    "import numpy as nd\n",
    "import matplotlib.pyplot as plt\n",
    "%matplotlib inline\n",
    "\n",
    "\n",
    "plt.hist(sd,15)\n",
    "plt.show()"
   ]
  },
  {
   "cell_type": "code",
   "execution_count": null,
   "metadata": {},
   "outputs": [],
   "source": [
    "n=int(input('Enter the number of students or books '))\n",
    "s=1\n",
    "n1=1\n",
    "for k in range(1,n+1):\n",
    "      s=s*k\n",
    "print(s)\n"
   ]
  },
  {
   "cell_type": "code",
   "execution_count": 16,
   "metadata": {},
   "outputs": [
    {
     "name": "stdout",
     "output_type": "stream",
     "text": [
      "Enter the number of students or books 4\n",
      "Output  9\n"
     ]
    }
   ],
   "source": [
    "import numpy as np\n",
    "import math\n",
    "n=int(input('Enter the number of students or books '))\n",
    "x1=0\n",
    "n_fact=math.factorial(n)\n",
    "\n",
    "for k in range(0,n):\n",
    "    x=((pow(-1,k))/math.factorial(k))\n",
    "    x1=x1+x\n",
    "\n",
    "sum=(n_fact*x1)+1\n",
    "ans= sum%1000000007\n",
    "ans=int(ans)\n",
    "print('Output ',ans)\n"
   ]
  },
  {
   "cell_type": "code",
   "execution_count": null,
   "metadata": {},
   "outputs": [],
   "source": [
    "T=int(input('Enter the number of test cases'))\n",
    "n1=int(input('Enter n1 '))\n",
    "n2=int(input('Enter n2 '))\n",
    "\n",
    "a=int(input('Enter a '))\n",
    "b=int(input('Enter b '))\n",
    "\n",
    "if((n1%2==0)and(n2%2==0)):\n",
    "    x=2\n",
    "    \n",
    "    \n",
    "    \n",
    "\n"
   ]
  },
  {
   "cell_type": "code",
   "execution_count": 17,
   "metadata": {},
   "outputs": [],
   "source": [
    "from itertools import combinations \n",
    "comb = combinations([1,2,4], 4)\n",
    "for i in list(comb):\n",
    "    print (i)"
   ]
  },
  {
   "cell_type": "code",
   "execution_count": 5,
   "metadata": {},
   "outputs": [
    {
     "name": "stdout",
     "output_type": "stream",
     "text": [
      "Total Employee 5 \n",
      "Name :  Zara , Salary:  2000\n",
      "Name :  Lara , Salary:  6000\n",
      "Name :  Gaara , Salary:  8000\n",
      "Name :  Nohara , Salary:  12000\n",
      "Name :  Parra , Salary:  9000\n"
     ]
    }
   ],
   "source": [
    "class Employee:\n",
    "    empCount=0\n",
    "    \n",
    "    def __init__(self, name, salary):\n",
    "        self.name=name\n",
    "        self.salary=salary\n",
    "        Employee.empCount+=1\n",
    "    def displayCount(self):\n",
    "        print(\"Total Employee %d\" %Employee.empCount)\n",
    "        \n",
    "    def displayEmployee(self):\n",
    "        print(\"Name : \", self.name, \", Salary: \",self.salary)\n",
    "emp1=Employee(\"Zara\",2000)\n",
    "emp2=Employee(\"Lara\",6000)\n",
    "emp3=Employee(\"Gaara\",8000)\n",
    "emp4=Employee(\"Nohara\",12000)\n",
    "emp5=Employee(\"Parra\",9000)\n",
    "print(\"Total Employee %d \" %Employee.empCount)\n",
    "\n",
    "emp1.displayEmployee()\n",
    "emp2.displayEmployee()\n",
    "emp3.displayEmployee()\n",
    "emp4.displayEmployee()\n",
    "emp5.displayEmployee()\n",
    "\n"
   ]
  },
  {
   "cell_type": "code",
   "execution_count": 6,
   "metadata": {},
   "outputs": [
    {
     "name": "stdout",
     "output_type": "stream",
     "text": [
      "    Name  Age\n",
      "0   Alex   10\n",
      "1    Bob   12\n",
      "2  Clark   13\n"
     ]
    }
   ],
   "source": [
    "import pandas as pd\n",
    "data = [['Alex',10],['Bob',12],['Clark',13]]\n",
    "df=pd.DataFrame(data,columns=['Name','Age'])\n",
    "print(df)"
   ]
  },
  {
   "cell_type": "code",
   "execution_count": 7,
   "metadata": {},
   "outputs": [
    {
     "name": "stdout",
     "output_type": "stream",
     "text": [
      "dict['Name']: Zara\n",
      "dict['Age']: 7\n"
     ]
    }
   ],
   "source": [
    "dict={'Name':'Zara','Age':7,'Class':'First'}\n",
    "print(\"dict['Name']:\",dict['Name'])\n",
    "print(\"dict['Age']:\",dict['Age'])"
   ]
  },
  {
   "cell_type": "code",
   "execution_count": 8,
   "metadata": {},
   "outputs": [
    {
     "name": "stdout",
     "output_type": "stream",
     "text": [
      "Empty DataFrame\n",
      "Columns: []\n",
      "Index: []\n"
     ]
    }
   ],
   "source": [
    "import pandas as pd\n",
    "df=pd.DataFrame()\n",
    "print(df)"
   ]
  },
  {
   "cell_type": "code",
   "execution_count": 9,
   "metadata": {},
   "outputs": [
    {
     "name": "stdout",
     "output_type": "stream",
     "text": [
      "   0\n",
      "0  1\n",
      "1  2\n",
      "2  3\n",
      "3  4\n",
      "4  5\n"
     ]
    }
   ],
   "source": [
    "import pandas as pd\n",
    "data=[1,2,3,4,5]\n",
    "df=pd.DataFrame(data)\n",
    "print(df)"
   ]
  },
  {
   "cell_type": "code",
   "execution_count": 10,
   "metadata": {},
   "outputs": [
    {
     "name": "stdout",
     "output_type": "stream",
     "text": [
      "    Name  Age\n",
      "0   Alex   10\n",
      "1    Bob   12\n",
      "2  Clark   13\n"
     ]
    }
   ],
   "source": [
    "import pandas as pd\n",
    "data=[['Alex',10],['Bob',12],['Clark',13]]\n",
    "df=pd.DataFrame(data, columns=['Name','Age'])\n",
    "print(df)"
   ]
  },
  {
   "cell_type": "code",
   "execution_count": 11,
   "metadata": {},
   "outputs": [
    {
     "name": "stdout",
     "output_type": "stream",
     "text": [
      "    Name   Age\n",
      "0   Alex  10.0\n",
      "1    Bob  12.0\n",
      "2  Clark  13.0\n"
     ]
    }
   ],
   "source": [
    "import pandas as pd\n",
    "data=[['Alex',10],['Bob',12],['Clark',13]]\n",
    "df=pd.DataFrame(data, columns=['Name','Age'],dtype=float)\n",
    "print(df)"
   ]
  },
  {
   "cell_type": "code",
   "execution_count": 12,
   "metadata": {},
   "outputs": [
    {
     "name": "stdout",
     "output_type": "stream",
     "text": [
      "        Name  Age\n",
      "rank1    Tom   28\n",
      "rank2   Jack   34\n",
      "rank3  Steve   29\n",
      "rank4  Ricky   42\n"
     ]
    }
   ],
   "source": [
    "import pandas as pd\n",
    "data={'Name':['Tom','Jack','Steve','Ricky'],'Age':[28,34,29,42]}\n",
    "df=pd.DataFrame(data, index=['rank1','rank2','rank3','rank4'])\n",
    "print(df)"
   ]
  },
  {
   "cell_type": "code",
   "execution_count": 13,
   "metadata": {},
   "outputs": [
    {
     "name": "stdout",
     "output_type": "stream",
     "text": [
      "Adding a new column by passing as Series\n",
      "   one  two  three\n",
      "a  1.0    1   10.0\n",
      "b  2.0    2   20.0\n",
      "c  3.0    3   30.0\n",
      "d  NaN    4    NaN\n",
      "Adding a new column using the existing columns in DataFrame: \n",
      "   one  two  three  four\n",
      "a  1.0    1   10.0  11.0\n",
      "b  2.0    2   20.0  22.0\n",
      "c  3.0    3   30.0  33.0\n",
      "d  NaN    4    NaN   NaN\n"
     ]
    }
   ],
   "source": [
    "import pandas as pd\n",
    "\n",
    "d={'one' : pd.Series([1,2,3], index=['a','b','c']), 'two' :pd.Series([1,2,3,4], index=['a','b','c','d'])}\n",
    "\n",
    "df=pd.DataFrame(d)\n",
    "\n",
    "print(\"Adding a new column by passing as Series\")\n",
    "df['three']=pd.Series([10,20,30],index=['a','b','c'])\n",
    "print(df)\n",
    "\n",
    "print(\"Adding a new column using the existing columns in DataFrame: \")\n",
    "df['four']=df['one']+df['three']\n",
    "print(df)"
   ]
  },
  {
   "cell_type": "code",
   "execution_count": 15,
   "metadata": {},
   "outputs": [
    {
     "name": "stdout",
     "output_type": "stream",
     "text": [
      "        Name  Age  Marks       Email id\n",
      "1        Tom   19     90    t@gmail.com\n",
      "2       Jack   20     89    j@gmail.com\n",
      "3      Steve   20     92    s@gmail.com\n",
      "4      Ricky   19     93    r@gmail.com\n",
      "5        Sam   19     75  sss@gmail.com\n",
      "6     Joseph   20     89   rr@gmail.com\n",
      "7   Samantha   18     92   sa@gmail.com\n",
      "8        Jon   20     67  jon@gmail.com\n",
      "9      Billy   19     96   bb@gmail.com\n",
      "10      Luke   20     84   lo@gmail.com\n"
     ]
    }
   ],
   "source": [
    "import pandas as pd\n",
    "data={'Name':['Tom', 'Jack', 'Steve', 'Ricky', 'Sam', 'Joseph', 'Samantha', 'Jon', 'Billy', 'Luke'], 'Age':[19,20,20,19,19,20,18,20,19,20],'Marks':[90,89,92,93,75,89,92,67,96,84], 'Email id':['t@gmail.com','j@gmail.com','s@gmail.com','r@gmail.com','sss@gmail.com','rr@gmail.com','sa@gmail.com','jon@gmail.com','bb@gmail.com','lo@gmail.com']}\n",
    "df=pd.DataFrame(data, index=['1','2','3','4','5','6','7','8','9','10'])\n",
    "print(df)"
   ]
  },
  {
   "cell_type": "code",
   "execution_count": 17,
   "metadata": {},
   "outputs": [],
   "source": [
    "#exporting a csv file to local server\n",
    "import pandas as pd\n",
    "data={'Name':['Tom', 'Jack', 'Steve', 'Ricky', 'Sam', 'Joseph', 'Samantha', 'Jon', 'Billy', 'Luke'], 'Age':[19,20,20,19,19,20,18,20,19,20],'Marks':[90,89,92,93,75,89,92,67,96,84], 'Email id':['t@gmail.com','j@gmail.com','s@gmail.com','r@gmail.com','sss@gmail.com','rr@gmail.com','sa@gmail.com','jon@gmail.com','bb@gmail.com','lo@gmail.com']}\n",
    "df=pd.DataFrame(data, index=['1','2','3','4','5','6','7','8','9','10'])\n",
    "df.to_csv(\"C:/Users/TUKAI/Desktop/HUHU/file1.csv\")"
   ]
  },
  {
   "cell_type": "code",
   "execution_count": 18,
   "metadata": {},
   "outputs": [
    {
     "name": "stdout",
     "output_type": "stream",
     "text": [
      "   Unnamed: 0      Name  Age  Marks       Email id\n",
      "0           1       Tom   19     90    t@gmail.com\n",
      "1           2      Jack   20     89    j@gmail.com\n",
      "2           3     Steve   20     92    s@gmail.com\n",
      "3           4     Ricky   19     93    r@gmail.com\n",
      "4           5       Sam   19     75  sss@gmail.com\n",
      "5           6    Joseph   20     89   rr@gmail.com\n",
      "6           7  Samantha   18     92   sa@gmail.com\n",
      "7           8       Jon   20     67  jon@gmail.com\n",
      "8           9     Billy   19     96   bb@gmail.com\n",
      "9          10      Luke   20     84   lo@gmail.com\n"
     ]
    }
   ],
   "source": [
    "#importing a local server csv file\n",
    "import pandas as pd\n",
    "df1=pd.read_csv(\"C:/Users/TUKAI/Desktop/HUHU/file1.csv\")\n",
    "print(df1)"
   ]
  },
  {
   "cell_type": "code",
   "execution_count": 2,
   "metadata": {},
   "outputs": [],
   "source": [
    "#importing a Healthcare management system to local server\n",
    "import matplotlib.pyplot as plt\n",
    "import pandas as pd\n",
    "import numpy as np\n",
    "%matplotlib inline\n",
    "\n",
    "patient_data_set={'Serial ID':[2019001,2019002,2019003,2019004,2019005,2019006,2019007,2019008,2019009,2019010,2019011,2019012,2019013,2019014,2019015,2019016,2019017,2019018,2019019,2019020,2019021,2019022,2019023,2019024,2019025,2019026,2019027,2019028,2019029,2019030,2019031,2019032,2019033,2019034,2019035,2019036,2019037,2019038,2019039,2019040],'NAME':['Virat','Ram','Shyam','Joduu','Moduu','Jay','Ray','Mark','Rick','Morty','Bean','Jon','Daenerys','Sansa','Arya','Reek','Srijita','Saptarshi','Soumyajit','Elija','Shreshtha','Akash','Tiyasha','Shis','Triparna','Apurba','Gaurab','Sujoy','Pratik','Sourya','Sandipan','Trishita','Bukai','Aditi','Emily','Gargi','Sujit','Rintu','Debapam','Archika'],'Patient Age':[34,56,78,23,45,68,78,56,45,34,54,45,56,76,78,12,34,23,45,67,45,34,23,45,23,23,34,22,33,45,76,45,57,35,56,23,56,6,42,78]}\n",
    "disease_data_set={'DISEASE':['Cholera','Viral Fever','Dengue','Marasmus','Cholera','Leukemia','Bone Marrow Cancer','Skin Cancer','AIDS','Syphillis','Ebola','Dirrhoea','Cholera','Dengue','Syphillis','AIDS','Elbow Fracture','AIDS','Dengue','Dengue','Viral Fever','Food Poisoning','Pneumonia','Low Blood perssure','Skin Cancer','Typhoid','Dysentry','Chicken Pox','Small Pox','Piles','Fistula','Diptheria','Cholera','High Cholesterol','Chicken Pox','Chicken Pox','Viral Fever','Child Birth','Diarrhoea','Viral Fever']}\n",
    "medicine_data_set={'Medicine Name':['doxycycline','Crocin','Paracetamol','Z-Clinz','clindamycin','benzoyl peroxide combination''Z-Pak','azithromycin','Zaditor','ketotifen-ophthalmic','zafirlukast','ZAFIRLUKAST ORAL','Zagam','sparfloxacin-oral','zalcitabine','zaleplon','doxycycline','Crocin','Paracetamol','Z-Clinz','clindamycin','doxycycline','Crocin','Paracetamol','Z-Clinz','clindamycin','doxycycline','Crocin','Paracetamol','Z-Clinz','clindamycin','doxycycline','Crocin','Paracetamol','Z-Clinz','clindamycin','doxycycline','Crocin','Paracetamol','Z-Clinz','clindamycin',],'Medicine Price(Rs.)':[290,140,450,789,340,290,140,450,789,340,290,140,450,789,340,290,140,450,789,340,290,140,450,789,340,290,140,450,789,340,290,140,450,789,340,290,140,450,789,340]}\n",
    "doctor_data_set={'Doctor Name':['Dr. Ashok Banerjee','Dr. Ashok Ghosh','Dr. Badal Banerjee','Dr. Supratim Dutta','Dr. Arnab Mondal','Dr. Arnab Dey','Dr. Baisakhi Mondal','Dr. Pallabi Mondal','Dr. Shalini Pandey','Dr. Kanishka Majumder','Dr. Shyam Ghosh','Dr. Arnab Pandey','Dr. Badal Mondal','Dr. Saptarshi Sarkar','Dr. Anirban Majumder','Dr. Anurag Pandey','Dr. Soumyajit Raha','Dr. Shankha Dey','Dr. Tuhin Mukherjee','Dr. Aman Singh','Dr. Sujoy Roy','Dr. Brototi Chakraborty','Dr. Sandipan Gupta','Dr. Tapas Tiwary','Dr. Amit Nandy','Dr. Samrat Bose','Dr. Lipika Paul','Dr. Shritama Ghosh','Dr. Rajib Dey','Dr. Barnali Mondal','Dr. Gargi Ghosh','Dr. Sharmita Kundu','Dr. Sudin Kundu','Dr. Sharmana Chatterjee','Dr. Ajit Bose','Dr. Samaresh Bose','Dr. Sohini Mukherjee','Dr. Subham Das','Dr. Subham Dey','Dr. Arnab Sarkar'],'SPECIALIZATION':['Cardiologist','Cancer','Addiction psychiatrist','Adolescent medicine specialist','Allergist','Anesthesiologis','Cardiac electrophysiologist','Cardiologist','Cardiovascular surgeon','Colon rectal surgeon','Cardiologist','Cancer','Addiction psychiatrist','Adolescent medicine specialist','Allergist','Anesthesiologis','Cardiac electrophysiologist','Cardiologist','Cardiovascular surgeon','Colon rectal surgeon','Cardiologist','Cancer','Addiction psychiatrist','Adolescent medicine specialist','Allergist','Anesthesiologis','Cardiac electrophysiologist','Cardiologist','Cardiovascular surgeon','Colon rectal surgeon','Cardiologist','Cancer','Addiction psychiatrist','Adolescent medicine specialist','Allergist','Anesthesiologis','Cardiac electrophysiologist','Cardiologist','Cardiovascular surgeon','Colon rectal surgeon']}\n",
    "\n",
    "patient_dataframe=pd.DataFrame(patient_data_set)\n",
    "disease_dataframe=pd.DataFrame(disease_data_set)\n",
    "medicine_dataframe=pd.DataFrame(medicine_data_set)\n",
    "doctor_dataframe=pd.DataFrame(doctor_data_set)\n",
    "\n",
    "dataframe=patient_dataframe.join(disease_dataframe).join(medicine_dataframe).join(doctor_dataframe)\n",
    "\n",
    "dataframe.to_csv(\"C:/Users/TUKAI/Desktop/HUHU/file2.csv\")\n"
   ]
  },
  {
   "cell_type": "code",
   "execution_count": 1,
   "metadata": {},
   "outputs": [
    {
     "name": "stdout",
     "output_type": "stream",
     "text": [
      "Mean of Patient age =  45.2\n"
     ]
    },
    {
     "data": {
      "image/png": "[encoded data removed]",
      "text/plain": [
       "<Figure size 432x288 with 1 Axes>"
      ]
     },
     "metadata": {
      "needs_background": "light"
     },
     "output_type": "display_data"
    },
    {
     "name": "stdout",
     "output_type": "stream",
     "text": [
      "Mean of Medicine price(Rs.)=  401.8\n"
     ]
    },
    {
     "data": {
      "image/png": "[encoded data removed]",
      "text/plain": [
       "<Figure size 432x288 with 1 Axes>"
      ]
     },
     "metadata": {
      "needs_background": "light"
     },
     "output_type": "display_data"
    },
    {
     "data": {
      "text/plain": [
       "[<matplotlib.lines.Line2D at 0x15dd16d0ac8>]"
      ]
     },
     "execution_count": 1,
     "metadata": {},
     "output_type": "execute_result"
    },
    {
     "data": {
      "image/png": "[encoded data removed]",
      "text/plain": [
       "<Figure size 432x288 with 2 Axes>"
      ]
     },
     "metadata": {
      "needs_background": "light"
     },
     "output_type": "display_data"
    }
   ],
   "source": [
    "#plotting histogram of the mean age of patients\n",
    "#plotting the graph of patient age wrt to patient name\n",
    "#plotting the histogram of the mean of medicine price\n",
    "#plotting the graph of medicine price wrt to medicine name\n",
    "import matplotlib.pyplot as plt\n",
    "import pandas as pd\n",
    "import numpy as np\n",
    "%matplotlib inline\n",
    "\n",
    "patient_data_set={'Serial ID':[2019001,2019002,2019003,2019004,2019005,2019006,2019007,2019008,2019009,2019010,2019011,2019012,2019013,2019014,2019015,2019016,2019017,2019018,2019019,2019020,2019021,2019022,2019023,2019024,2019025,2019026,2019027,2019028,2019029,2019030,2019031,2019032,2019033,2019034,2019035,2019036,2019037,2019038,2019039,2019040],'Patient Name':['Virat','Ram','Shyam','Joduu','Moduu','Jay','Ray','Mark','Rick','Morty','Bean','Jon','Daenerys','Sansa','Arya','Reek','Srijita','Saptarshi','Soumyajit','Elija','Shreshtha','Akash','Tiyasha','Shis','Triparna','Apurba','Gaurab','Sujoy','Pratik','Sourya','Sandipan','Trishita','Bukai','Aditi','Emily','Gargi','Sujit','Rintu','Debapam','Archika'],'Patient Age':[34,56,78,23,45,68,78,56,45,34,54,45,56,76,78,12,34,23,45,67,45,34,23,45,23,23,34,22,33,45,76,45,57,35,56,23,56,6,42,78]}\n",
    "disease_data_set={'DISEASE':['Cholera','Viral Fever','Dengue','Marasmus','Cholera','Leukemia','Bone Marrow Cancer','Skin Cancer','AIDS','Syphillis','Ebola','Dirrhoea','Cholera','Dengue','Syphillis','AIDS','Elbow Fracture','AIDS','Dengue','Dengue','Viral Fever','Food Poisoning','Pneumonia','Low Blood perssure','Skin Cancer','Typhoid','Dysentry','Chicken Pox','Small Pox','Piles','Fistula','Diptheria','Cholera','High Cholesterol','Chicken Pox','Chicken Pox','Viral Fever','Child Birth','Diarrhoea','Viral Fever']}\n",
    "medicine_data_set={'Medicine Name':['doxycycline','Crocin','Paracetamol','Z-Clinz','clindamycin','benzoyl peroxide combination''Z-Pak','azithromycin','Zaditor','ketotifen-ophthalmic','zafirlukast','ZAFIRLUKAST ORAL','Zagam','sparfloxacin-oral','zalcitabine','zaleplon','doxycycline','Crocin','Paracetamol','Z-Clinz','clindamycin','doxycycline','Crocin','Paracetamol','Z-Clinz','clindamycin','doxycycline','Crocin','Paracetamol','Z-Clinz','clindamycin','doxycycline','Crocin','Paracetamol','Z-Clinz','clindamycin','doxycycline','Crocin','Paracetamol','Z-Clinz','clindamycin',],'Medicine Price(Rs.)':[290,140,450,789,340,290,140,450,789,340,290,140,450,789,340,290,140,450,789,340,290,140,450,789,340,290,140,450,789,340,290,140,450,789,340,290,140,450,789,340]}\n",
    "doctor_data_set={'Doctor Name':['Dr. Ashok Banerjee','Dr. Ashok Ghosh','Dr. Badal Banerjee','Dr. Supratim Dutta','Dr. Arnab Mondal','Dr. Arnab Dey','Dr. Baisakhi Mondal','Dr. Pallabi Mondal','Dr. Shalini Pandey','Dr. Kanishka Majumder','Dr. Shyam Ghosh','Dr. Arnab Pandey','Dr. Badal Mondal','Dr. Saptarshi Sarkar','Dr. Anirban Majumder','Dr. Anurag Pandey','Dr. Soumyajit Raha','Dr. Shankha Dey','Dr. Tuhin Mukherjee','Dr. Aman Singh','Dr. Sujoy Roy','Dr. Brototi Chakraborty','Dr. Sandipan Gupta','Dr. Tapas Tiwary','Dr. Amit Nandy','Dr. Samrat Bose','Dr. Lipika Paul','Dr. Shritama Ghosh','Dr. Rajib Dey','Dr. Barnali Mondal','Dr. Gargi Ghosh','Dr. Sharmita Kundu','Dr. Sudin Kundu','Dr. Sharmana Chatterjee','Dr. Ajit Bose','Dr. Samaresh Bose','Dr. Sohini Mukherjee','Dr. Subham Das','Dr. Subham Dey','Dr. Arnab Sarkar'],'SPECIALIZATION':['Cardiologist','Cancer','Addiction psychiatrist','Adolescent medicine specialist','Allergist','Anesthesiologis','Cardiac electrophysiologist','Cardiologist','Cardiovascular surgeon','Colon rectal surgeon','Cardiologist','Cancer','Addiction psychiatrist','Adolescent medicine specialist','Allergist','Anesthesiologis','Cardiac electrophysiologist','Cardiologist','Cardiovascular surgeon','Colon rectal surgeon','Cardiologist','Cancer','Addiction psychiatrist','Adolescent medicine specialist','Allergist','Anesthesiologis','Cardiac electrophysiologist','Cardiologist','Cardiovascular surgeon','Colon rectal surgeon','Cardiologist','Cancer','Addiction psychiatrist','Adolescent medicine specialist','Allergist','Anesthesiologis','Cardiac electrophysiologist','Cardiologist','Cardiovascular surgeon','Colon rectal surgeon']}\n",
    "\n",
    "patient_dataframe=pd.DataFrame(patient_data_set)\n",
    "disease_dataframe=pd.DataFrame(disease_data_set)\n",
    "medicine_dataframe=pd.DataFrame(medicine_data_set)\n",
    "doctor_dataframe=pd.DataFrame(doctor_data_set)\n",
    "\n",
    "dataframe=patient_dataframe.join(disease_dataframe).join(medicine_dataframe).join(doctor_dataframe)\n",
    "\n",
    "patient_age_mean = np.mean(patient_dataframe['Patient Age'])\n",
    "print('Mean of Patient age = ',patient_age_mean)\n",
    "plt.hist(patient_age_mean,15)\n",
    "plt.show()\n",
    "\n",
    "med_price_mean=np.mean(medicine_dataframe['Medicine Price(Rs.)'])\n",
    "print('Mean of Medicine price(Rs.)= ',med_price_mean)\n",
    "plt.hist(patient_age_mean,15)\n",
    "plt.show()\n",
    "\n",
    "patient_age=patient_dataframe['Patient Age']\n",
    "patient_name=patient_dataframe['Patient Name']\n",
    "plt.subplot(2,1,1)\n",
    "plt.plot(patient_name,patient_age)\n",
    "\n",
    "\n",
    "med_price=medicine_dataframe['Medicine Price(Rs.)']\n",
    "med_name=medicine_dataframe['Medicine Name']\n",
    "plt.subplot(2,1,2)\n",
    "plt.plot(med_name,med_price)"
   ]
  },
  {
   "cell_type": "code",
   "execution_count": 7,
   "metadata": {},
   "outputs": [
    {
     "name": "stdout",
     "output_type": "stream",
     "text": [
      "    Unnamed: 0  Serial ID       NAME  Patient Age             DISEASE  \\\n",
      "0            0    2019001      Virat           34             Cholera   \n",
      "1            1    2019002        Ram           56         Viral Fever   \n",
      "2            2    2019003      Shyam           78              Dengue   \n",
      "3            3    2019004      Joduu           23            Marasmus   \n",
      "4            4    2019005      Moduu           45             Cholera   \n",
      "5            5    2019006        Jay           68            Leukemia   \n",
      "6            6    2019007        Ray           78  Bone Marrow Cancer   \n",
      "7            7    2019008       Mark           56         Skin Cancer   \n",
      "8            8    2019009       Rick           45                AIDS   \n",
      "9            9    2019010      Morty           34           Syphillis   \n",
      "10          10    2019011       Bean           54               Ebola   \n",
      "11          11    2019012        Jon           45            Dirrhoea   \n",
      "12          12    2019013   Daenerys           56             Cholera   \n",
      "13          13    2019014      Sansa           76              Dengue   \n",
      "14          14    2019015       Arya           78           Syphillis   \n",
      "15          15    2019016       Reek           12                AIDS   \n",
      "16          16    2019017    Srijita           34      Elbow Fracture   \n",
      "17          17    2019018  Saptarshi           23                AIDS   \n",
      "18          18    2019019  Soumyajit           45              Dengue   \n",
      "19          19    2019020      Elija           67              Dengue   \n",
      "20          20    2019021  Shreshtha           45         Viral Fever   \n",
      "21          21    2019022      Akash           34      Food Poisoning   \n",
      "22          22    2019023    Tiyasha           23           Pneumonia   \n",
      "23          23    2019024       Shis           45  Low Blood perssure   \n",
      "24          24    2019025   Triparna           23         Skin Cancer   \n",
      "25          25    2019026     Apurba           23             Typhoid   \n",
      "26          26    2019027     Gaurab           34            Dysentry   \n",
      "27          27    2019028      Sujoy           22         Chicken Pox   \n",
      "28          28    2019029     Pratik           33           Small Pox   \n",
      "29          29    2019030     Sourya           45               Piles   \n",
      "30          30    2019031   Sandipan           76             Fistula   \n",
      "31          31    2019032   Trishita           45           Diptheria   \n",
      "32          32    2019033      Bukai           57             Cholera   \n",
      "33          33    2019034      Aditi           35    High Cholesterol   \n",
      "34          34    2019035      Emily           56         Chicken Pox   \n",
      "35          35    2019036      Gargi           23         Chicken Pox   \n",
      "36          36    2019037      Sujit           56         Viral Fever   \n",
      "37          37    2019038      Rintu            6         Child Birth   \n",
      "38          38    2019039    Debapam           42           Diarrhoea   \n",
      "39          39    2019040    Archika           78         Viral Fever   \n",
      "\n",
      "                        Medicine Name  Medicine Price(Rs.)  \\\n",
      "0                         doxycycline                  290   \n",
      "1                              Crocin                  140   \n",
      "2                         Paracetamol                  450   \n",
      "3                             Z-Clinz                  789   \n",
      "4                         clindamycin                  340   \n",
      "5   benzoyl peroxide combinationZ-Pak                  290   \n",
      "6                        azithromycin                  140   \n",
      "7                             Zaditor                  450   \n",
      "8                ketotifen-ophthalmic                  789   \n",
      "9                         zafirlukast                  340   \n",
      "10                   ZAFIRLUKAST ORAL                  290   \n",
      "11                              Zagam                  140   \n",
      "12                  sparfloxacin-oral                  450   \n",
      "13                        zalcitabine                  789   \n",
      "14                           zaleplon                  340   \n",
      "15                        doxycycline                  290   \n",
      "16                             Crocin                  140   \n",
      "17                        Paracetamol                  450   \n",
      "18                            Z-Clinz                  789   \n",
      "19                        clindamycin                  340   \n",
      "20                        doxycycline                  290   \n",
      "21                             Crocin                  140   \n",
      "22                        Paracetamol                  450   \n",
      "23                            Z-Clinz                  789   \n",
      "24                        clindamycin                  340   \n",
      "25                        doxycycline                  290   \n",
      "26                             Crocin                  140   \n",
      "27                        Paracetamol                  450   \n",
      "28                            Z-Clinz                  789   \n",
      "29                        clindamycin                  340   \n",
      "30                        doxycycline                  290   \n",
      "31                             Crocin                  140   \n",
      "32                        Paracetamol                  450   \n",
      "33                            Z-Clinz                  789   \n",
      "34                        clindamycin                  340   \n",
      "35                        doxycycline                  290   \n",
      "36                             Crocin                  140   \n",
      "37                        Paracetamol                  450   \n",
      "38                            Z-Clinz                  789   \n",
      "39                        clindamycin                  340   \n",
      "\n",
      "                Doctor Name                  SPECIALIZATION  \n",
      "0        Dr. Ashok Banerjee                    Cardiologist  \n",
      "1           Dr. Ashok Ghosh                          Cancer  \n",
      "2        Dr. Badal Banerjee          Addiction psychiatrist  \n",
      "3        Dr. Supratim Dutta  Adolescent medicine specialist  \n",
      "4          Dr. Arnab Mondal                       Allergist  \n",
      "5             Dr. Arnab Dey                 Anesthesiologis  \n",
      "6       Dr. Baisakhi Mondal     Cardiac electrophysiologist  \n",
      "7        Dr. Pallabi Mondal                    Cardiologist  \n",
      "8        Dr. Shalini Pandey          Cardiovascular surgeon  \n",
      "9     Dr. Kanishka Majumder            Colon rectal surgeon  \n",
      "10          Dr. Shyam Ghosh                    Cardiologist  \n",
      "11         Dr. Arnab Pandey                          Cancer  \n",
      "12         Dr. Badal Mondal          Addiction psychiatrist  \n",
      "13     Dr. Saptarshi Sarkar  Adolescent medicine specialist  \n",
      "14     Dr. Anirban Majumder                       Allergist  \n",
      "15        Dr. Anurag Pandey                 Anesthesiologis  \n",
      "16       Dr. Soumyajit Raha     Cardiac electrophysiologist  \n",
      "17          Dr. Shankha Dey                    Cardiologist  \n",
      "18      Dr. Tuhin Mukherjee          Cardiovascular surgeon  \n",
      "19           Dr. Aman Singh            Colon rectal surgeon  \n",
      "20            Dr. Sujoy Roy                    Cardiologist  \n",
      "21  Dr. Brototi Chakraborty                          Cancer  \n",
      "22       Dr. Sandipan Gupta          Addiction psychiatrist  \n",
      "23         Dr. Tapas Tiwary  Adolescent medicine specialist  \n",
      "24           Dr. Amit Nandy                       Allergist  \n",
      "25          Dr. Samrat Bose                 Anesthesiologis  \n",
      "26          Dr. Lipika Paul     Cardiac electrophysiologist  \n",
      "27       Dr. Shritama Ghosh                    Cardiologist  \n",
      "28            Dr. Rajib Dey          Cardiovascular surgeon  \n",
      "29       Dr. Barnali Mondal            Colon rectal surgeon  \n",
      "30          Dr. Gargi Ghosh                    Cardiologist  \n",
      "31       Dr. Sharmita Kundu                          Cancer  \n",
      "32          Dr. Sudin Kundu          Addiction psychiatrist  \n",
      "33  Dr. Sharmana Chatterjee  Adolescent medicine specialist  \n",
      "34            Dr. Ajit Bose                       Allergist  \n",
      "35        Dr. Samaresh Bose                 Anesthesiologis  \n",
      "36     Dr. Sohini Mukherjee     Cardiac electrophysiologist  \n",
      "37           Dr. Subham Das                    Cardiologist  \n",
      "38           Dr. Subham Dey          Cardiovascular surgeon  \n",
      "39         Dr. Arnab Sarkar            Colon rectal surgeon  \n"
     ]
    }
   ],
   "source": [
    "#retrieving the file from local server\n",
    "import pandas as pd\n",
    "dataframe1=pd.read_csv(\"C:/Users/TUKAI/Desktop/HUHU/file2.csv\")\n",
    "print(dataframe1)"
   ]
  },
  {
   "cell_type": "code",
   "execution_count": 2,
   "metadata": {},
   "outputs": [
    {
     "data": {
      "image/png": "[encoded data removed]",
      "text/plain": [
       "<Figure size 432x288 with 1 Axes>"
      ]
     },
     "metadata": {
      "needs_background": "light"
     },
     "output_type": "display_data"
    }
   ],
   "source": [
    "import numpy as np\n",
    "import matplotlib.pyplot as plt\n",
    "\n",
    "values=np.random.uniform(-10,10.0,100000)\n",
    "plt.hist(values,50)\n",
    "plt.show()\n"
   ]
  },
  {
   "cell_type": "code",
   "execution_count": 3,
   "metadata": {},
   "outputs": [
    {
     "data": {
      "text/plain": [
       "[<matplotlib.lines.Line2D at 0x1d30031eef0>]"
      ]
     },
     "execution_count": 3,
     "metadata": {},
     "output_type": "execute_result"
    },
    {
     "data": {
      "image/png": "[encoded data removed]",
      "text/plain": [
       "<Figure size 432x288 with 1 Axes>"
      ]
     },
     "metadata": {
      "needs_background": "light"
     },
     "output_type": "display_data"
    }
   ],
   "source": [
    "from scipy.stats import norm\n",
    "\n",
    "import matplotlib.pyplot as plt\n",
    "\n",
    "x=np.arange(-3,3,0.001)\n",
    "plt.plot(x,norm.pdf(x))"
   ]
  },
  {
   "cell_type": "code",
   "execution_count": 4,
   "metadata": {},
   "outputs": [
    {
     "data": {
      "image/png": "[encoded data removed]",
      "text/plain": [
       "<Figure size 432x288 with 1 Axes>"
      ]
     },
     "metadata": {
      "needs_background": "light"
     },
     "output_type": "display_data"
    }
   ],
   "source": [
    "import matplotlib.pyplot as plt\n",
    "import numpy as np\n",
    "\n",
    "mean=5.0\n",
    "stdv=2.0\n",
    "\n",
    "values=np.random.normal(mean,stdv,10000)\n",
    "plt.hist(values,50)\n",
    "plt.show()"
   ]
  },
  {
   "cell_type": "code",
   "execution_count": 5,
   "metadata": {},
   "outputs": [
    {
     "data": {
      "text/plain": [
       "[<matplotlib.lines.Line2D at 0x1d3001b9a90>]"
      ]
     },
     "execution_count": 5,
     "metadata": {},
     "output_type": "execute_result"
    },
    {
     "data": {
      "image/png": "[encoded data removed]",
      "text/plain": [
       "<Figure size 432x288 with 1 Axes>"
      ]
     },
     "metadata": {
      "needs_background": "light"
     },
     "output_type": "display_data"
    }
   ],
   "source": [
    "from scipy.stats import expon\n",
    "\n",
    "import matplotlib.pyplot as plt\n",
    "#probability expon function...\n",
    "x=np.arange(0,10,0.001)\n",
    "plt.plot(x,expon.pdf(x))"
   ]
  },
  {
   "cell_type": "code",
   "execution_count": 6,
   "metadata": {},
   "outputs": [
    {
     "data": {
      "text/plain": [
       "[<matplotlib.lines.Line2D at 0x1d3000479b0>]"
      ]
     },
     "execution_count": 6,
     "metadata": {},
     "output_type": "execute_result"
    },
    {
     "data": {
      "image/png": "[encoded data removed]",
      "text/plain": [
       "<Figure size 432x288 with 1 Axes>"
      ]
     },
     "metadata": {
      "needs_background": "light"
     },
     "output_type": "display_data"
    }
   ],
   "source": [
    "#probability binomial function...\n",
    "\n",
    "from scipy.stats import binom\n",
    "\n",
    "import matplotlib.pyplot as plt\n",
    "\n",
    "n,p=10,0.5\n",
    "x=np.arange(0,10,0.001)\n",
    "plt.plot(x,binom.pmf(x,n,p))"
   ]
  },
  {
   "cell_type": "code",
   "execution_count": 7,
   "metadata": {},
   "outputs": [
    {
     "data": {
      "text/plain": [
       "[<matplotlib.lines.Line2D at 0x1d3001375c0>]"
      ]
     },
     "execution_count": 7,
     "metadata": {},
     "output_type": "execute_result"
    },
    {
     "data": {
      "image/png": "[encoded data removed]",
      "text/plain": [
       "<Figure size 432x288 with 1 Axes>"
      ]
     },
     "metadata": {
      "needs_background": "light"
     },
     "output_type": "display_data"
    }
   ],
   "source": [
    "#poisson pmf\n",
    "\n",
    "from scipy.stats import poisson\n",
    "\n",
    "import matplotlib.pyplot as plt\n",
    "\n",
    "mean=500\n",
    "\n",
    "x=np.arange(400,600,0.5)\n",
    "plt.plot(x,poisson.pmf(x,mean))"
   ]
  },
  {
   "cell_type": "code",
   "execution_count": 8,
   "metadata": {},
   "outputs": [
    {
     "data": {
      "image/png": "[encoded data removed]",
      "text/plain": [
       "<Figure size 432x288 with 1 Axes>"
      ]
     },
     "metadata": {
      "needs_background": "light"
     },
     "output_type": "display_data"
    }
   ],
   "source": [
    "import matplotlib.pyplot as plt\n",
    "import seaborn as sns; sns.set()\n",
    "import numpy as np\n",
    "\n",
    "%matplotlib inline\n",
    "\n",
    "rng=np.random.RandomState(1)\n",
    "x=10* rng.rand(50)\n",
    "y=2*x-5 + rng.randn(50)\n",
    "plt.scatter(x, y);"
   ]
  },
  {
   "cell_type": "code",
   "execution_count": 9,
   "metadata": {},
   "outputs": [
    {
     "data": {
      "image/png": "[encoded data removed]",
      "text/plain": [
       "<Figure size 432x288 with 1 Axes>"
      ]
     },
     "metadata": {
      "needs_background": "light"
     },
     "output_type": "display_data"
    }
   ],
   "source": [
    "from sklearn.linear_model import LinearRegression\n",
    "model= LinearRegression(fit_intercept=True)\n",
    "\n",
    "model.fit(x[:, np.newaxis], y)\n",
    "\n",
    "xfit=np.linspace(0,10,1000) #model observation\n",
    "yfit=model.predict(xfit[:,np.newaxis]) #prediction\n",
    "\n",
    "plt.scatter(x, y)\n",
    "plt.plot(xfit, yfit); #observ/predic"
   ]
  },
  {
   "cell_type": "code",
   "execution_count": 10,
   "metadata": {},
   "outputs": [
    {
     "name": "stdout",
     "output_type": "stream",
     "text": [
      "0.5000000000000144\n",
      "[ 1.5 -2.   1. ]\n"
     ]
    }
   ],
   "source": [
    "rng = np.random.RandomState(1)\n",
    "X=10*rng.rand(100,3)\n",
    "y=0.5+np.dot(X, [1.5, -2., 1.])\n",
    "\n",
    "model.fit(X,y)\n",
    "print(model.intercept_)\n",
    "print(model.coef_)"
   ]
  },
  {
   "cell_type": "code",
   "execution_count": 11,
   "metadata": {},
   "outputs": [
    {
     "data": {
      "text/plain": [
       "array([[ 1.,  2.,  4.,  8.],\n",
       "       [ 1.,  3.,  9., 27.],\n",
       "       [ 1.,  4., 16., 64.]])"
      ]
     },
     "execution_count": 11,
     "metadata": {},
     "output_type": "execute_result"
    }
   ],
   "source": [
    "from sklearn.preprocessing import PolynomialFeatures\n",
    "x=np.array([2,3,4])\n",
    "poly=PolynomialFeatures(3, include_bias=True)\n",
    "poly.fit_transform(x[:, None])"
   ]
  },
  {
   "cell_type": "code",
   "execution_count": 12,
   "metadata": {},
   "outputs": [
    {
     "data": {
      "image/png": "[encoded data removed]",
      "text/plain": [
       "<Figure size 432x288 with 1 Axes>"
      ]
     },
     "metadata": {
      "needs_background": "light"
     },
     "output_type": "display_data"
    }
   ],
   "source": [
    "#create sine curve\n",
    "from sklearn.linear_model import LinearRegression\n",
    "poly_model=LinearRegression(fit_intercept=True)\n",
    "rng=np.random.RandomState(1)\n",
    "x=10*rng.rand(50)\n",
    "y=np.sin(x)+0.1*rng.randn(50)\n",
    "\n",
    "poly_model.fit(x[:, np.newaxis],y)\n",
    "yfit=poly_model.predict(xfit[:, np.newaxis])\n",
    "\n",
    "plt.scatter(x,y)\n",
    "plt.plot(xfit, yfit);"
   ]
  },
  {
   "cell_type": "code",
   "execution_count": 15,
   "metadata": {},
   "outputs": [
    {
     "data": {
      "image/png": "[encoded data removed]",
      "text/plain": [
       "<Figure size 432x288 with 1 Axes>"
      ]
     },
     "metadata": {
      "needs_background": "light"
     },
     "output_type": "display_data"
    }
   ],
   "source": [
    "from sklearn.linear_model import LinearRegression\n",
    "import matplotlib.pyplot as plt\n",
    "import seaborn as sns; sns.set()\n",
    "import numpy as np\n",
    "%matplotlib inline\n",
    "\n",
    "poly_model=LinearRegression(fit_intercept=True)\n",
    "rng=np.random.RandomState(1)\n",
    "x=5*rng.rand(25)\n",
    "y=np.cos(x)+0.2*rng.randn(25)\n",
    "\n",
    "\n",
    "poly_model.fit(x[:, np.newaxis],y)\n",
    "yfit=poly_model.predict(xfit[:, np.newaxis])\n",
    "\n",
    "plt.scatter(x, y)\n",
    "plt.plot(xfit, yfit);"
   ]
  },
  {
   "cell_type": "code",
   "execution_count": 16,
   "metadata": {},
   "outputs": [
    {
     "name": "stdout",
     "output_type": "stream",
     "text": [
      "Coefficients: \n",
      " [941.43097333]\n",
      "Mean squared error: 3035.06\n",
      "Variance score: 0.41\n"
     ]
    },
    {
     "data": {
      "image/png": "[encoded data removed]",
      "text/plain": [
       "<Figure size 432x288 with 1 Axes>"
      ]
     },
     "metadata": {},
     "output_type": "display_data"
    }
   ],
   "source": [
    "#linear regression of a random diabetes dataset\n",
    "\n",
    "import matplotlib.pyplot as plt\n",
    "import numpy as np\n",
    "from sklearn import datasets, linear_model\n",
    "from sklearn.metrics import mean_squared_error, r2_score\n",
    "\n",
    "# Load the diabetes dataset\n",
    "diabetes = datasets.load_diabetes()\n",
    "\n",
    "# Use only one feature\n",
    "diabetes_X = diabetes.data[:, np.newaxis, 2]\n",
    "\n",
    "# Split the data into training/testing sets\n",
    "diabetes_X_train = diabetes_X[:-30]\n",
    "diabetes_X_test = diabetes_X[-30:]\n",
    "\n",
    "# Split the targets into training/testing sets\n",
    "diabetes_y_train = diabetes.target[:-30]\n",
    "diabetes_y_test = diabetes.target[-30:]\n",
    "\n",
    "# Create linear regression object\n",
    "regr = linear_model.LinearRegression()\n",
    "\n",
    "# Train the model using the training sets\n",
    "regr.fit(diabetes_X_train, diabetes_y_train)\n",
    "\n",
    "# Make predictions using the testing set\n",
    "diabetes_y_pred = regr.predict(diabetes_X_test)\n",
    "\n",
    "# The coefficients\n",
    "print('Coefficients: \\n', regr.coef_)\n",
    "\n",
    "# The mean squared error\n",
    "print(\"Mean squared error: %.2f\" % mean_squared_error(diabetes_y_test, diabetes_y_pred))\n",
    "\n",
    "# Explained variance score: 1 is perfect prediction\n",
    "print('Variance score: %.2f' % r2_score(diabetes_y_test, diabetes_y_pred))\n",
    "\n",
    "# Plot outputs\n",
    "plt.scatter(diabetes_X_test, diabetes_y_test, color = 'blue')\n",
    "plt.plot(diabetes_X_test, diabetes_y_pred, color = 'black', linewidth = 2)\n",
    "plt.xticks(())\n",
    "plt.yticks(())\n",
    "plt.show()\n"
   ]
  },
  {
   "cell_type": "code",
   "execution_count": 1,
   "metadata": {},
   "outputs": [
    {
     "name": "stdout",
     "output_type": "stream",
     "text": [
      "    A   B\n",
      "0   6  19\n",
      "1  14  10\n"
     ]
    }
   ],
   "source": [
    "import pandas as pd\n",
    "import numpy as np\n",
    "rng=np.random.RandomState(42)\n",
    "A=pd.DataFrame(rng.randint(0,20,(2,2)), columns=list('AB'))\n",
    "print(A)"
   ]
  },
  {
   "cell_type": "code",
   "execution_count": 2,
   "metadata": {},
   "outputs": [
    {
     "name": "stdout",
     "output_type": "stream",
     "text": [
      "   A  B  C  D\n",
      "0  7  4  6  9\n",
      "1  2  6  7  4\n",
      "2  3  7  7  2\n"
     ]
    }
   ],
   "source": [
    "df=pd.DataFrame(rng.randint(0,10,(3,4)),columns=['A','B','C','D'])\n",
    "print(df)"
   ]
  },
  {
   "cell_type": "code",
   "execution_count": 3,
   "metadata": {},
   "outputs": [
    {
     "name": "stdout",
     "output_type": "stream",
     "text": [
      "Alaska        1723337\n",
      "Texas          695662\n",
      "California     423967\n",
      "Name: area, dtype: int64\n"
     ]
    }
   ],
   "source": [
    "import pandas as pd\n",
    "area=pd.Series({'Alaska': 1723337, 'Texas': 695662,\n",
    "                'California': 423967}, name='area')\n",
    "population = pd.Series({'California': 38332521, 'Texas': 26448193,\n",
    "                        'New York': 19651127}, name='population')\n",
    "print(area)"
   ]
  },
  {
   "cell_type": "code",
   "execution_count": 4,
   "metadata": {},
   "outputs": [
    {
     "data": {
      "text/plain": [
       "Alaska              NaN\n",
       "California    90.413926\n",
       "New York            NaN\n",
       "Texas         38.018740\n",
       "dtype: float64"
      ]
     },
     "execution_count": 4,
     "metadata": {},
     "output_type": "execute_result"
    }
   ],
   "source": [
    "population/area"
   ]
  },
  {
   "cell_type": "code",
   "execution_count": 5,
   "metadata": {},
   "outputs": [
    {
     "data": {
      "text/html": [
       "<div>\n",
       "<style scoped>\n",
       "    .dataframe tbody tr th:only-of-type {\n",
       "        vertical-align: middle;\n",
       "    }\n",
       "\n",
       "    .dataframe tbody tr th {\n",
       "        vertical-align: top;\n",
       "    }\n",
       "\n",
       "    .dataframe thead th {\n",
       "        text-align: right;\n",
       "    }\n",
       "</style>\n",
       "<table border=\"1\" class=\"dataframe\">\n",
       "  <thead>\n",
       "    <tr style=\"text-align: right;\">\n",
       "      <th></th>\n",
       "      <th>A</th>\n",
       "      <th>B</th>\n",
       "      <th>C</th>\n",
       "      <th>D</th>\n",
       "    </tr>\n",
       "  </thead>\n",
       "  <tbody>\n",
       "    <tr>\n",
       "      <th>0</th>\n",
       "      <td>A0</td>\n",
       "      <td>B0</td>\n",
       "      <td>C0</td>\n",
       "      <td>D0</td>\n",
       "    </tr>\n",
       "    <tr>\n",
       "      <th>1</th>\n",
       "      <td>A1</td>\n",
       "      <td>B1</td>\n",
       "      <td>C1</td>\n",
       "      <td>D1</td>\n",
       "    </tr>\n",
       "    <tr>\n",
       "      <th>2</th>\n",
       "      <td>A2</td>\n",
       "      <td>B2</td>\n",
       "      <td>C2</td>\n",
       "      <td>D2</td>\n",
       "    </tr>\n",
       "    <tr>\n",
       "      <th>3</th>\n",
       "      <td>A3</td>\n",
       "      <td>B3</td>\n",
       "      <td>C3</td>\n",
       "      <td>D3</td>\n",
       "    </tr>\n",
       "  </tbody>\n",
       "</table>\n",
       "</div>"
      ],
      "text/plain": [
       "    A   B   C   D\n",
       "0  A0  B0  C0  D0\n",
       "1  A1  B1  C1  D1\n",
       "2  A2  B2  C2  D2\n",
       "3  A3  B3  C3  D3"
      ]
     },
     "execution_count": 5,
     "metadata": {},
     "output_type": "execute_result"
    }
   ],
   "source": [
    "import pandas as pd\n",
    "import numpy as np\n",
    "\n",
    "def make_df(cols, ind):\n",
    "    \"\"\"Quickly make a DataFrame\"\"\"\n",
    "    data={c: [str(c) +str(i) for i in ind]\n",
    "          for c in cols}\n",
    "    return pd.DataFrame(data, ind)\n",
    "\n",
    "make_df('ABCD', range(4))"
   ]
  },
  {
   "cell_type": "code",
   "execution_count": 6,
   "metadata": {},
   "outputs": [],
   "source": [
    "class display(object):\n",
    "    \"\"\"Display HTML representation of multiple objects\"\"\"\n",
    "    template = \"\"\"<div style=\"float: left; padding: 10px;\">\n",
    "    <p style='font-family:\"Courier New\", Courier, monospace'>{0}</p>{1}\n",
    "    </div>\"\"\"\n",
    "    def __init__(self, *args):\n",
    "        self.args = args\n",
    "        \n",
    "    def _repr_html_(self):\n",
    "        return '\\n'.join(self.template.format(a, eval(a)._repr_html_())\n",
    "                         for a in self.args)\n",
    "    \n",
    "    def __repr__(self):\n",
    "        return '\\n\\n'.join(a + '\\n' + repr(eval(a))\n",
    "                           for a in self.args)"
   ]
  },
  {
   "cell_type": "code",
   "execution_count": 7,
   "metadata": {},
   "outputs": [
    {
     "data": {
      "text/html": [
       "<div style=\"float: left; padding: 10px;\">\n",
       "    <p style='font-family:\"Courier New\", Courier, monospace'>df1</p><div>\n",
       "<style scoped>\n",
       "    .dataframe tbody tr th:only-of-type {\n",
       "        vertical-align: middle;\n",
       "    }\n",
       "\n",
       "    .dataframe tbody tr th {\n",
       "        vertical-align: top;\n",
       "    }\n",
       "\n",
       "    .dataframe thead th {\n",
       "        text-align: right;\n",
       "    }\n",
       "</style>\n",
       "<table border=\"1\" class=\"dataframe\">\n",
       "  <thead>\n",
       "    <tr style=\"text-align: right;\">\n",
       "      <th></th>\n",
       "      <th>A</th>\n",
       "      <th>B</th>\n",
       "    </tr>\n",
       "  </thead>\n",
       "  <tbody>\n",
       "    <tr>\n",
       "      <th>1</th>\n",
       "      <td>A1</td>\n",
       "      <td>B1</td>\n",
       "    </tr>\n",
       "    <tr>\n",
       "      <th>2</th>\n",
       "      <td>A2</td>\n",
       "      <td>B2</td>\n",
       "    </tr>\n",
       "  </tbody>\n",
       "</table>\n",
       "</div>\n",
       "    </div>\n",
       "<div style=\"float: left; padding: 10px;\">\n",
       "    <p style='font-family:\"Courier New\", Courier, monospace'>df2</p><div>\n",
       "<style scoped>\n",
       "    .dataframe tbody tr th:only-of-type {\n",
       "        vertical-align: middle;\n",
       "    }\n",
       "\n",
       "    .dataframe tbody tr th {\n",
       "        vertical-align: top;\n",
       "    }\n",
       "\n",
       "    .dataframe thead th {\n",
       "        text-align: right;\n",
       "    }\n",
       "</style>\n",
       "<table border=\"1\" class=\"dataframe\">\n",
       "  <thead>\n",
       "    <tr style=\"text-align: right;\">\n",
       "      <th></th>\n",
       "      <th>A</th>\n",
       "      <th>B</th>\n",
       "    </tr>\n",
       "  </thead>\n",
       "  <tbody>\n",
       "    <tr>\n",
       "      <th>3</th>\n",
       "      <td>A3</td>\n",
       "      <td>B3</td>\n",
       "    </tr>\n",
       "    <tr>\n",
       "      <th>4</th>\n",
       "      <td>A4</td>\n",
       "      <td>B4</td>\n",
       "    </tr>\n",
       "  </tbody>\n",
       "</table>\n",
       "</div>\n",
       "    </div>\n",
       "<div style=\"float: left; padding: 10px;\">\n",
       "    <p style='font-family:\"Courier New\", Courier, monospace'>pd.concat([df1, df2])</p><div>\n",
       "<style scoped>\n",
       "    .dataframe tbody tr th:only-of-type {\n",
       "        vertical-align: middle;\n",
       "    }\n",
       "\n",
       "    .dataframe tbody tr th {\n",
       "        vertical-align: top;\n",
       "    }\n",
       "\n",
       "    .dataframe thead th {\n",
       "        text-align: right;\n",
       "    }\n",
       "</style>\n",
       "<table border=\"1\" class=\"dataframe\">\n",
       "  <thead>\n",
       "    <tr style=\"text-align: right;\">\n",
       "      <th></th>\n",
       "      <th>A</th>\n",
       "      <th>B</th>\n",
       "    </tr>\n",
       "  </thead>\n",
       "  <tbody>\n",
       "    <tr>\n",
       "      <th>1</th>\n",
       "      <td>A1</td>\n",
       "      <td>B1</td>\n",
       "    </tr>\n",
       "    <tr>\n",
       "      <th>2</th>\n",
       "      <td>A2</td>\n",
       "      <td>B2</td>\n",
       "    </tr>\n",
       "    <tr>\n",
       "      <th>3</th>\n",
       "      <td>A3</td>\n",
       "      <td>B3</td>\n",
       "    </tr>\n",
       "    <tr>\n",
       "      <th>4</th>\n",
       "      <td>A4</td>\n",
       "      <td>B4</td>\n",
       "    </tr>\n",
       "  </tbody>\n",
       "</table>\n",
       "</div>\n",
       "    </div>"
      ],
      "text/plain": [
       "df1\n",
       "    A   B\n",
       "1  A1  B1\n",
       "2  A2  B2\n",
       "\n",
       "df2\n",
       "    A   B\n",
       "3  A3  B3\n",
       "4  A4  B4\n",
       "\n",
       "pd.concat([df1, df2])\n",
       "    A   B\n",
       "1  A1  B1\n",
       "2  A2  B2\n",
       "3  A3  B3\n",
       "4  A4  B4"
      ]
     },
     "execution_count": 7,
     "metadata": {},
     "output_type": "execute_result"
    }
   ],
   "source": [
    "df1= make_df('AB',[1,2])\n",
    "df2=make_df('AB', [3,4])\n",
    "display('df1', 'df2', 'pd.concat([df1, df2])')"
   ]
  },
  {
   "cell_type": "code",
   "execution_count": 8,
   "metadata": {},
   "outputs": [
    {
     "name": "stderr",
     "output_type": "stream",
     "text": [
      "C:\\Users\\TUKAI\\Anaconda3\\lib\\site-packages\\ipykernel_launcher.py:1: FutureWarning: Sorting because non-concatenation axis is not aligned. A future version\n",
      "of pandas will change to not sort by default.\n",
      "\n",
      "To accept the future behavior, pass 'sort=False'.\n",
      "\n",
      "To retain the current behavior and silence the warning, pass 'sort=True'.\n",
      "\n",
      "  \"\"\"Entry point for launching an IPython kernel.\n"
     ]
    },
    {
     "data": {
      "text/html": [
       "<div style=\"float: left; padding: 10px;\">\n",
       "    <p style='font-family:\"Courier New\", Courier, monospace'>df3</p><div>\n",
       "<style scoped>\n",
       "    .dataframe tbody tr th:only-of-type {\n",
       "        vertical-align: middle;\n",
       "    }\n",
       "\n",
       "    .dataframe tbody tr th {\n",
       "        vertical-align: top;\n",
       "    }\n",
       "\n",
       "    .dataframe thead th {\n",
       "        text-align: right;\n",
       "    }\n",
       "</style>\n",
       "<table border=\"1\" class=\"dataframe\">\n",
       "  <thead>\n",
       "    <tr style=\"text-align: right;\">\n",
       "      <th></th>\n",
       "      <th>A</th>\n",
       "      <th>B</th>\n",
       "    </tr>\n",
       "  </thead>\n",
       "  <tbody>\n",
       "    <tr>\n",
       "      <th>0</th>\n",
       "      <td>A0</td>\n",
       "      <td>B0</td>\n",
       "    </tr>\n",
       "    <tr>\n",
       "      <th>1</th>\n",
       "      <td>A1</td>\n",
       "      <td>B1</td>\n",
       "    </tr>\n",
       "  </tbody>\n",
       "</table>\n",
       "</div>\n",
       "    </div>\n",
       "<div style=\"float: left; padding: 10px;\">\n",
       "    <p style='font-family:\"Courier New\", Courier, monospace'>df4</p><div>\n",
       "<style scoped>\n",
       "    .dataframe tbody tr th:only-of-type {\n",
       "        vertical-align: middle;\n",
       "    }\n",
       "\n",
       "    .dataframe tbody tr th {\n",
       "        vertical-align: top;\n",
       "    }\n",
       "\n",
       "    .dataframe thead th {\n",
       "        text-align: right;\n",
       "    }\n",
       "</style>\n",
       "<table border=\"1\" class=\"dataframe\">\n",
       "  <thead>\n",
       "    <tr style=\"text-align: right;\">\n",
       "      <th></th>\n",
       "      <th>C</th>\n",
       "      <th>D</th>\n",
       "    </tr>\n",
       "  </thead>\n",
       "  <tbody>\n",
       "    <tr>\n",
       "      <th>0</th>\n",
       "      <td>C0</td>\n",
       "      <td>D0</td>\n",
       "    </tr>\n",
       "    <tr>\n",
       "      <th>1</th>\n",
       "      <td>C1</td>\n",
       "      <td>D1</td>\n",
       "    </tr>\n",
       "  </tbody>\n",
       "</table>\n",
       "</div>\n",
       "    </div>\n",
       "<div style=\"float: left; padding: 10px;\">\n",
       "    <p style='font-family:\"Courier New\", Courier, monospace'>pd.concat([df3,df4])</p><div>\n",
       "<style scoped>\n",
       "    .dataframe tbody tr th:only-of-type {\n",
       "        vertical-align: middle;\n",
       "    }\n",
       "\n",
       "    .dataframe tbody tr th {\n",
       "        vertical-align: top;\n",
       "    }\n",
       "\n",
       "    .dataframe thead th {\n",
       "        text-align: right;\n",
       "    }\n",
       "</style>\n",
       "<table border=\"1\" class=\"dataframe\">\n",
       "  <thead>\n",
       "    <tr style=\"text-align: right;\">\n",
       "      <th></th>\n",
       "      <th>A</th>\n",
       "      <th>B</th>\n",
       "      <th>C</th>\n",
       "      <th>D</th>\n",
       "    </tr>\n",
       "  </thead>\n",
       "  <tbody>\n",
       "    <tr>\n",
       "      <th>0</th>\n",
       "      <td>A0</td>\n",
       "      <td>B0</td>\n",
       "      <td>NaN</td>\n",
       "      <td>NaN</td>\n",
       "    </tr>\n",
       "    <tr>\n",
       "      <th>1</th>\n",
       "      <td>A1</td>\n",
       "      <td>B1</td>\n",
       "      <td>NaN</td>\n",
       "      <td>NaN</td>\n",
       "    </tr>\n",
       "    <tr>\n",
       "      <th>0</th>\n",
       "      <td>NaN</td>\n",
       "      <td>NaN</td>\n",
       "      <td>C0</td>\n",
       "      <td>D0</td>\n",
       "    </tr>\n",
       "    <tr>\n",
       "      <th>1</th>\n",
       "      <td>NaN</td>\n",
       "      <td>NaN</td>\n",
       "      <td>C1</td>\n",
       "      <td>D1</td>\n",
       "    </tr>\n",
       "  </tbody>\n",
       "</table>\n",
       "</div>\n",
       "    </div>"
      ],
      "text/plain": [
       "df3\n",
       "    A   B\n",
       "0  A0  B0\n",
       "1  A1  B1\n",
       "\n",
       "df4\n",
       "    C   D\n",
       "0  C0  D0\n",
       "1  C1  D1\n",
       "\n",
       "pd.concat([df3,df4])\n",
       "     A    B    C    D\n",
       "0   A0   B0  NaN  NaN\n",
       "1   A1   B1  NaN  NaN\n",
       "0  NaN  NaN   C0   D0\n",
       "1  NaN  NaN   C1   D1"
      ]
     },
     "execution_count": 8,
     "metadata": {},
     "output_type": "execute_result"
    }
   ],
   "source": [
    "df3 = make_df('AB', [0,1])\n",
    "df4= make_df('CD', [0,1])\n",
    "display('df3', 'df4', 'pd.concat([df3,df4])')"
   ]
  },
  {
   "cell_type": "code",
   "execution_count": 9,
   "metadata": {},
   "outputs": [
    {
     "data": {
      "text/html": [
       "<div style=\"float: left; padding: 10px;\">\n",
       "    <p style='font-family:\"Courier New\", Courier, monospace'>x</p><div>\n",
       "<style scoped>\n",
       "    .dataframe tbody tr th:only-of-type {\n",
       "        vertical-align: middle;\n",
       "    }\n",
       "\n",
       "    .dataframe tbody tr th {\n",
       "        vertical-align: top;\n",
       "    }\n",
       "\n",
       "    .dataframe thead th {\n",
       "        text-align: right;\n",
       "    }\n",
       "</style>\n",
       "<table border=\"1\" class=\"dataframe\">\n",
       "  <thead>\n",
       "    <tr style=\"text-align: right;\">\n",
       "      <th></th>\n",
       "      <th>A</th>\n",
       "      <th>B</th>\n",
       "    </tr>\n",
       "  </thead>\n",
       "  <tbody>\n",
       "    <tr>\n",
       "      <th>0</th>\n",
       "      <td>A0</td>\n",
       "      <td>B0</td>\n",
       "    </tr>\n",
       "    <tr>\n",
       "      <th>1</th>\n",
       "      <td>A1</td>\n",
       "      <td>B1</td>\n",
       "    </tr>\n",
       "  </tbody>\n",
       "</table>\n",
       "</div>\n",
       "    </div>\n",
       "<div style=\"float: left; padding: 10px;\">\n",
       "    <p style='font-family:\"Courier New\", Courier, monospace'>y</p><div>\n",
       "<style scoped>\n",
       "    .dataframe tbody tr th:only-of-type {\n",
       "        vertical-align: middle;\n",
       "    }\n",
       "\n",
       "    .dataframe tbody tr th {\n",
       "        vertical-align: top;\n",
       "    }\n",
       "\n",
       "    .dataframe thead th {\n",
       "        text-align: right;\n",
       "    }\n",
       "</style>\n",
       "<table border=\"1\" class=\"dataframe\">\n",
       "  <thead>\n",
       "    <tr style=\"text-align: right;\">\n",
       "      <th></th>\n",
       "      <th>A</th>\n",
       "      <th>B</th>\n",
       "    </tr>\n",
       "  </thead>\n",
       "  <tbody>\n",
       "    <tr>\n",
       "      <th>0</th>\n",
       "      <td>A2</td>\n",
       "      <td>B2</td>\n",
       "    </tr>\n",
       "    <tr>\n",
       "      <th>1</th>\n",
       "      <td>A3</td>\n",
       "      <td>B3</td>\n",
       "    </tr>\n",
       "  </tbody>\n",
       "</table>\n",
       "</div>\n",
       "    </div>\n",
       "<div style=\"float: left; padding: 10px;\">\n",
       "    <p style='font-family:\"Courier New\", Courier, monospace'>pd.concat([x,y])</p><div>\n",
       "<style scoped>\n",
       "    .dataframe tbody tr th:only-of-type {\n",
       "        vertical-align: middle;\n",
       "    }\n",
       "\n",
       "    .dataframe tbody tr th {\n",
       "        vertical-align: top;\n",
       "    }\n",
       "\n",
       "    .dataframe thead th {\n",
       "        text-align: right;\n",
       "    }\n",
       "</style>\n",
       "<table border=\"1\" class=\"dataframe\">\n",
       "  <thead>\n",
       "    <tr style=\"text-align: right;\">\n",
       "      <th></th>\n",
       "      <th>A</th>\n",
       "      <th>B</th>\n",
       "    </tr>\n",
       "  </thead>\n",
       "  <tbody>\n",
       "    <tr>\n",
       "      <th>0</th>\n",
       "      <td>A0</td>\n",
       "      <td>B0</td>\n",
       "    </tr>\n",
       "    <tr>\n",
       "      <th>1</th>\n",
       "      <td>A1</td>\n",
       "      <td>B1</td>\n",
       "    </tr>\n",
       "    <tr>\n",
       "      <th>0</th>\n",
       "      <td>A2</td>\n",
       "      <td>B2</td>\n",
       "    </tr>\n",
       "    <tr>\n",
       "      <th>1</th>\n",
       "      <td>A3</td>\n",
       "      <td>B3</td>\n",
       "    </tr>\n",
       "  </tbody>\n",
       "</table>\n",
       "</div>\n",
       "    </div>"
      ],
      "text/plain": [
       "x\n",
       "    A   B\n",
       "0  A0  B0\n",
       "1  A1  B1\n",
       "\n",
       "y\n",
       "    A   B\n",
       "0  A2  B2\n",
       "1  A3  B3\n",
       "\n",
       "pd.concat([x,y])\n",
       "    A   B\n",
       "0  A0  B0\n",
       "1  A1  B1\n",
       "0  A2  B2\n",
       "1  A3  B3"
      ]
     },
     "execution_count": 9,
     "metadata": {},
     "output_type": "execute_result"
    }
   ],
   "source": [
    "x=make_df('AB', [0,1])\n",
    "y=make_df('AB', [2,3])\n",
    "y.index=x.index\n",
    "display('x', 'y', 'pd.concat([x,y])')"
   ]
  },
  {
   "cell_type": "code",
   "execution_count": 10,
   "metadata": {},
   "outputs": [
    {
     "data": {
      "text/html": [
       "<div style=\"float: left; padding: 10px;\">\n",
       "    <p style='font-family:\"Courier New\", Courier, monospace'>x</p><div>\n",
       "<style scoped>\n",
       "    .dataframe tbody tr th:only-of-type {\n",
       "        vertical-align: middle;\n",
       "    }\n",
       "\n",
       "    .dataframe tbody tr th {\n",
       "        vertical-align: top;\n",
       "    }\n",
       "\n",
       "    .dataframe thead th {\n",
       "        text-align: right;\n",
       "    }\n",
       "</style>\n",
       "<table border=\"1\" class=\"dataframe\">\n",
       "  <thead>\n",
       "    <tr style=\"text-align: right;\">\n",
       "      <th></th>\n",
       "      <th>A</th>\n",
       "      <th>B</th>\n",
       "    </tr>\n",
       "  </thead>\n",
       "  <tbody>\n",
       "    <tr>\n",
       "      <th>0</th>\n",
       "      <td>A0</td>\n",
       "      <td>B0</td>\n",
       "    </tr>\n",
       "    <tr>\n",
       "      <th>1</th>\n",
       "      <td>A1</td>\n",
       "      <td>B1</td>\n",
       "    </tr>\n",
       "  </tbody>\n",
       "</table>\n",
       "</div>\n",
       "    </div>\n",
       "<div style=\"float: left; padding: 10px;\">\n",
       "    <p style='font-family:\"Courier New\", Courier, monospace'>y</p><div>\n",
       "<style scoped>\n",
       "    .dataframe tbody tr th:only-of-type {\n",
       "        vertical-align: middle;\n",
       "    }\n",
       "\n",
       "    .dataframe tbody tr th {\n",
       "        vertical-align: top;\n",
       "    }\n",
       "\n",
       "    .dataframe thead th {\n",
       "        text-align: right;\n",
       "    }\n",
       "</style>\n",
       "<table border=\"1\" class=\"dataframe\">\n",
       "  <thead>\n",
       "    <tr style=\"text-align: right;\">\n",
       "      <th></th>\n",
       "      <th>A</th>\n",
       "      <th>B</th>\n",
       "    </tr>\n",
       "  </thead>\n",
       "  <tbody>\n",
       "    <tr>\n",
       "      <th>0</th>\n",
       "      <td>A2</td>\n",
       "      <td>B2</td>\n",
       "    </tr>\n",
       "    <tr>\n",
       "      <th>1</th>\n",
       "      <td>A3</td>\n",
       "      <td>B3</td>\n",
       "    </tr>\n",
       "  </tbody>\n",
       "</table>\n",
       "</div>\n",
       "    </div>\n",
       "<div style=\"float: left; padding: 10px;\">\n",
       "    <p style='font-family:\"Courier New\", Courier, monospace'>pd.concat([x,y], keys=['x','y'])</p><div>\n",
       "<style scoped>\n",
       "    .dataframe tbody tr th:only-of-type {\n",
       "        vertical-align: middle;\n",
       "    }\n",
       "\n",
       "    .dataframe tbody tr th {\n",
       "        vertical-align: top;\n",
       "    }\n",
       "\n",
       "    .dataframe thead th {\n",
       "        text-align: right;\n",
       "    }\n",
       "</style>\n",
       "<table border=\"1\" class=\"dataframe\">\n",
       "  <thead>\n",
       "    <tr style=\"text-align: right;\">\n",
       "      <th></th>\n",
       "      <th></th>\n",
       "      <th>A</th>\n",
       "      <th>B</th>\n",
       "    </tr>\n",
       "  </thead>\n",
       "  <tbody>\n",
       "    <tr>\n",
       "      <th rowspan=\"2\" valign=\"top\">x</th>\n",
       "      <th>0</th>\n",
       "      <td>A0</td>\n",
       "      <td>B0</td>\n",
       "    </tr>\n",
       "    <tr>\n",
       "      <th>1</th>\n",
       "      <td>A1</td>\n",
       "      <td>B1</td>\n",
       "    </tr>\n",
       "    <tr>\n",
       "      <th rowspan=\"2\" valign=\"top\">y</th>\n",
       "      <th>0</th>\n",
       "      <td>A2</td>\n",
       "      <td>B2</td>\n",
       "    </tr>\n",
       "    <tr>\n",
       "      <th>1</th>\n",
       "      <td>A3</td>\n",
       "      <td>B3</td>\n",
       "    </tr>\n",
       "  </tbody>\n",
       "</table>\n",
       "</div>\n",
       "    </div>"
      ],
      "text/plain": [
       "x\n",
       "    A   B\n",
       "0  A0  B0\n",
       "1  A1  B1\n",
       "\n",
       "y\n",
       "    A   B\n",
       "0  A2  B2\n",
       "1  A3  B3\n",
       "\n",
       "pd.concat([x,y], keys=['x','y'])\n",
       "      A   B\n",
       "x 0  A0  B0\n",
       "  1  A1  B1\n",
       "y 0  A2  B2\n",
       "  1  A3  B3"
      ]
     },
     "execution_count": 10,
     "metadata": {},
     "output_type": "execute_result"
    }
   ],
   "source": [
    "display('x','y',\"pd.concat([x,y], keys=['x','y'])\")"
   ]
  },
  {
   "cell_type": "code",
   "execution_count": 11,
   "metadata": {},
   "outputs": [
    {
     "name": "stderr",
     "output_type": "stream",
     "text": [
      "C:\\Users\\TUKAI\\Anaconda3\\lib\\site-packages\\ipykernel_launcher.py:1: FutureWarning: Sorting because non-concatenation axis is not aligned. A future version\n",
      "of pandas will change to not sort by default.\n",
      "\n",
      "To accept the future behavior, pass 'sort=False'.\n",
      "\n",
      "To retain the current behavior and silence the warning, pass 'sort=True'.\n",
      "\n",
      "  \"\"\"Entry point for launching an IPython kernel.\n"
     ]
    },
    {
     "data": {
      "text/html": [
       "<div style=\"float: left; padding: 10px;\">\n",
       "    <p style='font-family:\"Courier New\", Courier, monospace'>df5</p><div>\n",
       "<style scoped>\n",
       "    .dataframe tbody tr th:only-of-type {\n",
       "        vertical-align: middle;\n",
       "    }\n",
       "\n",
       "    .dataframe tbody tr th {\n",
       "        vertical-align: top;\n",
       "    }\n",
       "\n",
       "    .dataframe thead th {\n",
       "        text-align: right;\n",
       "    }\n",
       "</style>\n",
       "<table border=\"1\" class=\"dataframe\">\n",
       "  <thead>\n",
       "    <tr style=\"text-align: right;\">\n",
       "      <th></th>\n",
       "      <th>A</th>\n",
       "      <th>B</th>\n",
       "      <th>C</th>\n",
       "    </tr>\n",
       "  </thead>\n",
       "  <tbody>\n",
       "    <tr>\n",
       "      <th>1</th>\n",
       "      <td>A1</td>\n",
       "      <td>B1</td>\n",
       "      <td>C1</td>\n",
       "    </tr>\n",
       "    <tr>\n",
       "      <th>2</th>\n",
       "      <td>A2</td>\n",
       "      <td>B2</td>\n",
       "      <td>C2</td>\n",
       "    </tr>\n",
       "  </tbody>\n",
       "</table>\n",
       "</div>\n",
       "    </div>\n",
       "<div style=\"float: left; padding: 10px;\">\n",
       "    <p style='font-family:\"Courier New\", Courier, monospace'>df6</p><div>\n",
       "<style scoped>\n",
       "    .dataframe tbody tr th:only-of-type {\n",
       "        vertical-align: middle;\n",
       "    }\n",
       "\n",
       "    .dataframe tbody tr th {\n",
       "        vertical-align: top;\n",
       "    }\n",
       "\n",
       "    .dataframe thead th {\n",
       "        text-align: right;\n",
       "    }\n",
       "</style>\n",
       "<table border=\"1\" class=\"dataframe\">\n",
       "  <thead>\n",
       "    <tr style=\"text-align: right;\">\n",
       "      <th></th>\n",
       "      <th>B</th>\n",
       "      <th>C</th>\n",
       "      <th>D</th>\n",
       "    </tr>\n",
       "  </thead>\n",
       "  <tbody>\n",
       "    <tr>\n",
       "      <th>3</th>\n",
       "      <td>B3</td>\n",
       "      <td>C3</td>\n",
       "      <td>D3</td>\n",
       "    </tr>\n",
       "    <tr>\n",
       "      <th>4</th>\n",
       "      <td>B4</td>\n",
       "      <td>C4</td>\n",
       "      <td>D4</td>\n",
       "    </tr>\n",
       "  </tbody>\n",
       "</table>\n",
       "</div>\n",
       "    </div>\n",
       "<div style=\"float: left; padding: 10px;\">\n",
       "    <p style='font-family:\"Courier New\", Courier, monospace'>pd.concat([df5, df6])</p><div>\n",
       "<style scoped>\n",
       "    .dataframe tbody tr th:only-of-type {\n",
       "        vertical-align: middle;\n",
       "    }\n",
       "\n",
       "    .dataframe tbody tr th {\n",
       "        vertical-align: top;\n",
       "    }\n",
       "\n",
       "    .dataframe thead th {\n",
       "        text-align: right;\n",
       "    }\n",
       "</style>\n",
       "<table border=\"1\" class=\"dataframe\">\n",
       "  <thead>\n",
       "    <tr style=\"text-align: right;\">\n",
       "      <th></th>\n",
       "      <th>A</th>\n",
       "      <th>B</th>\n",
       "      <th>C</th>\n",
       "      <th>D</th>\n",
       "    </tr>\n",
       "  </thead>\n",
       "  <tbody>\n",
       "    <tr>\n",
       "      <th>1</th>\n",
       "      <td>A1</td>\n",
       "      <td>B1</td>\n",
       "      <td>C1</td>\n",
       "      <td>NaN</td>\n",
       "    </tr>\n",
       "    <tr>\n",
       "      <th>2</th>\n",
       "      <td>A2</td>\n",
       "      <td>B2</td>\n",
       "      <td>C2</td>\n",
       "      <td>NaN</td>\n",
       "    </tr>\n",
       "    <tr>\n",
       "      <th>3</th>\n",
       "      <td>NaN</td>\n",
       "      <td>B3</td>\n",
       "      <td>C3</td>\n",
       "      <td>D3</td>\n",
       "    </tr>\n",
       "    <tr>\n",
       "      <th>4</th>\n",
       "      <td>NaN</td>\n",
       "      <td>B4</td>\n",
       "      <td>C4</td>\n",
       "      <td>D4</td>\n",
       "    </tr>\n",
       "  </tbody>\n",
       "</table>\n",
       "</div>\n",
       "    </div>"
      ],
      "text/plain": [
       "df5\n",
       "    A   B   C\n",
       "1  A1  B1  C1\n",
       "2  A2  B2  C2\n",
       "\n",
       "df6\n",
       "    B   C   D\n",
       "3  B3  C3  D3\n",
       "4  B4  C4  D4\n",
       "\n",
       "pd.concat([df5, df6])\n",
       "     A   B   C    D\n",
       "1   A1  B1  C1  NaN\n",
       "2   A2  B2  C2  NaN\n",
       "3  NaN  B3  C3   D3\n",
       "4  NaN  B4  C4   D4"
      ]
     },
     "execution_count": 11,
     "metadata": {},
     "output_type": "execute_result"
    }
   ],
   "source": [
    "df5= make_df('ABC', [1,2])\n",
    "df6= make_df('BCD', [3,4])\n",
    "display('df5', 'df6', 'pd.concat([df5, df6])')"
   ]
  },
  {
   "cell_type": "code",
   "execution_count": 1,
   "metadata": {},
   "outputs": [
    {
     "name": "stdout",
     "output_type": "stream",
     "text": [
      "Mean of Patient age =  45.2\n"
     ]
    },
    {
     "data": {
      "image/png": "[encoded data removed]",
      "text/plain": [
       "<Figure size 432x288 with 1 Axes>"
      ]
     },
     "metadata": {
      "needs_background": "light"
     },
     "output_type": "display_data"
    },
    {
     "data": {
      "image/png": "[encoded data removed]",
      "text/plain": [
       "<Figure size 432x288 with 1 Axes>"
      ]
     },
     "metadata": {},
     "output_type": "display_data"
    },
    {
     "data": {
      "image/png": "[encoded data removed]",
      "text/plain": [
       "<Figure size 432x288 with 1 Axes>"
      ]
     },
     "metadata": {
      "needs_background": "light"
     },
     "output_type": "display_data"
    }
   ],
   "source": [
    "#doing linear regression on two datasets\n",
    "#plotting histogram of one attribute (patient age)\n",
    "import matplotlib.pyplot as plt\n",
    "import pandas as pd\n",
    "import numpy as np\n",
    "\n",
    "import seaborn as sns; sns.set()\n",
    "%matplotlib inline\n",
    "\n",
    "patient_data_set={'Serial ID':[2019001,2019002,2019003,2019004,2019005,2019006,2019007,2019008,2019009,2019010,2019011,2019012,2019013,2019014,2019015,2019016,2019017,2019018,2019019,2019020,2019021,2019022,2019023,2019024,2019025,2019026,2019027,2019028,2019029,2019030,2019031,2019032,2019033,2019034,2019035,2019036,2019037,2019038,2019039,2019040],'NAME':['Virat','Ram','Shyam','Joduu','Moduu','Jay','Ray','Mark','Rick','Morty','Bean','Jon','Daenerys','Sansa','Arya','Reek','Srijita','Saptarshi','Soumyajit','Elija','Shreshtha','Akash','Tiyasha','Shis','Triparna','Apurba','Gaurab','Sujoy','Pratik','Sourya','Sandipan','Trishita','Bukai','Aditi','Emily','Gargi','Sujit','Rintu','Debapam','Archika'],'Patient Age':[34,56,78,23,45,68,78,56,45,34,54,45,56,76,78,12,34,23,45,67,45,34,23,45,23,23,34,22,33,45,76,45,57,35,56,23,56,6,42,78]}\n",
    "disease_data_set={'Disease NAME':['Cholera','Viral Fever','Dengue','Marasmus','Cholera','Leukemia','Bone Marrow Cancer','Skin Cancer','AIDS','Syphillis','Ebola','Dirrhoea','Cholera','Dengue','Syphillis','AIDS','Elbow Fracture','AIDS','Dengue','Dengue','Viral Fever','Food Poisoning','Pneumonia','Low Blood perssure','Skin Cancer','Typhoid','Dysentry','Chicken Pox','Small Pox','Piles','Fistula','Diptheria','Cholera','High Cholesterol','Chicken Pox','Chicken Pox','Viral Fever','Child Birth','Diarrhoea','Viral Fever']}\n",
    "medicine_data_set={'Medicine Name':['doxycycline','Crocin','Paracetamol','Z-Clinz','clindamycin','benzoyl peroxide combination''Z-Pak','azithromycin','Zaditor','ketotifen-ophthalmic','zafirlukast','ZAFIRLUKAST ORAL','Zagam','sparfloxacin-oral','zalcitabine','zaleplon','doxycycline','Crocin','Paracetamol','Z-Clinz','clindamycin','doxycycline','Crocin','Paracetamol','Z-Clinz','clindamycin','doxycycline','Crocin','Paracetamol','Z-Clinz','clindamycin','doxycycline','Crocin','Paracetamol','Z-Clinz','clindamycin','doxycycline','Crocin','Paracetamol','Z-Clinz','clindamycin',],'Medicine Price(Rs.)':[290,140,450,789,340,290,140,450,789,340,290,140,450,789,340,290,140,450,789,340,290,140,450,789,340,290,140,450,789,340,290,140,450,789,340,290,140,450,789,340]}\n",
    "doctor_data_set={'Doctor Name':['Dr. Ashok Banerjee','Dr. Ashok Ghosh','Dr. Badal Banerjee','Dr. Supratim Dutta','Dr. Arnab Mondal','Dr. Arnab Dey','Dr. Baisakhi Mondal','Dr. Pallabi Mondal','Dr. Shalini Pandey','Dr. Kanishka Majumder','Dr. Shyam Ghosh','Dr. Arnab Pandey','Dr. Badal Mondal','Dr. Saptarshi Sarkar','Dr. Anirban Majumder','Dr. Anurag Pandey','Dr. Soumyajit Raha','Dr. Shankha Dey','Dr. Tuhin Mukherjee','Dr. Aman Singh','Dr. Sujoy Roy','Dr. Brototi Chakraborty','Dr. Sandipan Gupta','Dr. Tapas Tiwary','Dr. Amit Nandy','Dr. Samrat Bose','Dr. Lipika Paul','Dr. Shritama Ghosh','Dr. Rajib Dey','Dr. Barnali Mondal','Dr. Gargi Ghosh','Dr. Sharmita Kundu','Dr. Sudin Kundu','Dr. Sharmana Chatterjee','Dr. Ajit Bose','Dr. Samaresh Bose','Dr. Sohini Mukherjee','Dr. Subham Das','Dr. Subham Dey','Dr. Arnab Sarkar'],'SPECIALIZATION':['Cardiologist','Cancer','Addiction psychiatrist','Adolescent medicine specialist','Allergist','Anesthesiologis','Cardiac electrophysiologist','Cardiologist','Cardiovascular surgeon','Colon rectal surgeon','Cardiologist','Cancer','Addiction psychiatrist','Adolescent medicine specialist','Allergist','Anesthesiologis','Cardiac electrophysiologist','Cardiologist','Cardiovascular surgeon','Colon rectal surgeon','Cardiologist','Cancer','Addiction psychiatrist','Adolescent medicine specialist','Allergist','Anesthesiologis','Cardiac electrophysiologist','Cardiologist','Cardiovascular surgeon','Colon rectal surgeon','Cardiologist','Cancer','Addiction psychiatrist','Adolescent medicine specialist','Allergist','Anesthesiologis','Cardiac electrophysiologist','Cardiologist','Cardiovascular surgeon','Colon rectal surgeon']}\n",
    "\n",
    "\n",
    "patient_dataframe=pd.DataFrame(patient_data_set)\n",
    "disease_dataframe=pd.DataFrame(disease_data_set)\n",
    "medicine_dataframe=pd.DataFrame(medicine_data_set)\n",
    "doctor_dataframe=pd.DataFrame(doctor_data_set)\n",
    "\n",
    "\n",
    "\n",
    "patient_age_mean = np.mean(patient_dataframe['Patient Age'])\n",
    "print('Mean of Patient age = ',patient_age_mean)\n",
    "plt.hist(patient_age_mean,15)\n",
    "plt.show()\n",
    "\n",
    "dataframe=patient_dataframe.join(disease_dataframe).join(medicine_dataframe).join(doctor_dataframe)\n",
    "\n",
    "#df3=pd.merge(patient_dataframe,disease_dataframe, how='outer')\n",
    "dataframe.to_csv(\"C:/Users/TUKAI/Desktop/HUHU/file2.csv\")\n",
    "\n",
    "\n",
    "\n",
    "X= patient_dataframe[['Patient Age']]\n",
    "Y= patient_dataframe['Serial ID']\n",
    "\n",
    "# Split the DATA into training/testing sets\n",
    "from sklearn.model_selection import train_test_split\n",
    "x_train,x_test,y_train, y_test = train_test_split(X,Y,test_size=0.2)\n",
    "\n",
    "# Split the TARGETS into training/testing sets\n",
    "from sklearn.linear_model import LinearRegression\n",
    "# Create linear regression object\n",
    "regr = LinearRegression()\n",
    "\n",
    "# Train the model using the training sets\n",
    "regr.fit(x_train, y_train)\n",
    "\n",
    "# Make predictions using the testing set\n",
    "y_pred = regr.predict(x_test)\n",
    "\n",
    "# Plot outputs\n",
    "plt.scatter(x_train, y_train, color = 'blue')\n",
    "plt.plot(x_test, y_pred, color = 'black', linewidth = 2)\n",
    "plt.xticks(())\n",
    "plt.yticks(())\n",
    "plt.show()\n",
    "\n",
    "#plotting bar chart from csv file\n",
    "\n",
    "table = pd.read_csv(\"C:/Users/TUKAI/Desktop/HUHU/file2.csv\")\n",
    "table.head()\n",
    "\n",
    "\n",
    "plt.bar(x=np.arange(1,41), height=table['Patient Age'] )\n",
    "plt.title('Patient Age')\n",
    "\n",
    "plt.xticks(np.arange(1,41), table['NAME'], rotation=90)\n",
    "\n",
    "plt.xlabel(\"Patient Name\")\n",
    "plt.ylabel(\"Patient Age\")\n",
    "plt.show()\n"
   ]
  },
  {
   "cell_type": "code",
   "execution_count": 2,
   "metadata": {},
   "outputs": [
    {
     "data": {
      "image/png": "[encoded data removed]",
      "text/plain": [
       "<Figure size 432x288 with 1 Axes>"
      ]
     },
     "metadata": {
      "needs_background": "light"
     },
     "output_type": "display_data"
    }
   ],
   "source": [
    "import matplotlib.pyplot as plt\n",
    "import numpy as np\n",
    "\n",
    "np.random.seed(19680801)\n",
    "\n",
    "\n",
    "def gradient_image(ax, extent, direction=0.3, cmap_range=(0, 1), **kwargs):\n",
    "    \"\"\"\n",
    "    Draw a gradient image based on a colormap.\n",
    "\n",
    "    Parameters\n",
    "    ----------\n",
    "    ax : Axes\n",
    "        The axes to draw on.\n",
    "    extent\n",
    "        The extent of the image as (xmin, xmax, ymin, ymax).\n",
    "        By default, this is in Axes coordinates but may be\n",
    "        changed using the *transform* kwarg.\n",
    "    direction : float\n",
    "        The direction of the gradient. This is a number in\n",
    "        range 0 (=vertical) to 1 (=horizontal).\n",
    "    cmap_range : float, float\n",
    "        The fraction (cmin, cmax) of the colormap that should be\n",
    "        used for the gradient, where the complete colormap is (0, 1).\n",
    "    **kwargs\n",
    "        Other parameters are passed on to `.Axes.imshow()`.\n",
    "        In particular useful is *cmap*.\n",
    "    \"\"\"\n",
    "    phi = direction * np.pi / 2\n",
    "    v = np.array([np.cos(phi), np.sin(phi)])\n",
    "    X = np.array([[v @ [1, 0], v @ [1, 1]],\n",
    "                  [v @ [0, 0], v @ [0, 1]]])\n",
    "    a, b = cmap_range\n",
    "    X = a + (b - a) / X.max() * X\n",
    "    im = ax.imshow(X, extent=extent, interpolation='bicubic',\n",
    "                   vmin=0, vmax=1, **kwargs)\n",
    "    return im\n",
    "\n",
    "\n",
    "def gradient_bar(ax, x, y, width=0.5, bottom=0):\n",
    "    for left, top in zip(x, y):\n",
    "        right = left + width\n",
    "        gradient_image(ax, extent=(left, right, bottom, top),\n",
    "                       cmap=plt.cm.Blues_r, cmap_range=(0, 0.8))\n",
    "\n",
    "\n",
    "xmin, xmax = xlim = 0, 10\n",
    "ymin, ymax = ylim = 0, 1\n",
    "\n",
    "fig, ax = plt.subplots()\n",
    "ax.set(xlim=xlim, ylim=ylim, autoscale_on=False)\n",
    "\n",
    "# background image\n",
    "gradient_image(ax, direction=0, extent=(0, 1, 0, 1), transform=ax.transAxes,\n",
    "               cmap=plt.cm.Oranges, cmap_range=(0.1, 0.6))\n",
    "\n",
    "N = 10\n",
    "x = np.arange(N) + 0.15\n",
    "y = np.random.rand(N)\n",
    "gradient_bar(ax, x, y, width=0.7)\n",
    "ax.set_aspect('auto')\n",
    "plt.show()"
   ]
  },
  {
   "cell_type": "code",
   "execution_count": 4,
   "metadata": {},
   "outputs": [
    {
     "name": "stdout",
     "output_type": "stream",
     "text": [
      "()\n"
     ]
    }
   ],
   "source": [
    "empty_tuple=()\n",
    "print (empty_tuple)"
   ]
  },
  {
   "cell_type": "code",
   "execution_count": 5,
   "metadata": {},
   "outputs": [
    {
     "name": "stdout",
     "output_type": "stream",
     "text": [
      "('python', 'geeks', 'argentina')\n"
     ]
    }
   ],
   "source": [
    "#one way of creation\n",
    "tup= 'python', 'geeks', 'argentina'\n",
    "print(tup)"
   ]
  },
  {
   "cell_type": "code",
   "execution_count": 6,
   "metadata": {},
   "outputs": [
    {
     "name": "stdout",
     "output_type": "stream",
     "text": [
      "('python', 'geeks')\n"
     ]
    }
   ],
   "source": [
    "tup=('python', 'geeks')\n",
    "print(tup)"
   ]
  },
  {
   "cell_type": "code",
   "execution_count": 7,
   "metadata": {},
   "outputs": [
    {
     "name": "stdout",
     "output_type": "stream",
     "text": [
      "((0, 1, 2), ('python', 'geek'))\n"
     ]
    }
   ],
   "source": [
    "tuple1 = (0,1,2)\n",
    "tuple2 = ('python', 'geek')\n",
    "tuple3 = (tuple1, tuple2)\n",
    "print(tuple3)"
   ]
  },
  {
   "cell_type": "code",
   "execution_count": 8,
   "metadata": {},
   "outputs": [
    {
     "name": "stdout",
     "output_type": "stream",
     "text": [
      "('python', 'python', 'python', 'python', 'python')\n"
     ]
    }
   ],
   "source": [
    "tuple3 = ('python',)*5\n",
    "print(tuple3)"
   ]
  },
  {
   "cell_type": "code",
   "execution_count": 9,
   "metadata": {},
   "outputs": [
    {
     "name": "stdout",
     "output_type": "stream",
     "text": [
      "(1, 2, 3)\n",
      "(3, 2, 1, 0)\n",
      "(2, 3)\n"
     ]
    }
   ],
   "source": [
    "tuple1 = (0,1,2,3)\n",
    "print(tuple1[1:]) #to (denoted by :)\n",
    "print(tuple1[::-1]) #from(denoted by ::) last index(-1)\n",
    "print(tuple1[2:4])"
   ]
  },
  {
   "cell_type": "code",
   "execution_count": 10,
   "metadata": {},
   "outputs": [
    {
     "name": "stdout",
     "output_type": "stream",
     "text": [
      "(0, 1, 2)\n",
      "('p', 'y', 't', 'h', 'o', 'n')\n"
     ]
    }
   ],
   "source": [
    "#code for converting list and string into tuple\n",
    "\n",
    "list1= [0,1,2]\n",
    "print(tuple(list1))\n",
    "print(tuple('python')) #string 'python'"
   ]
  },
  {
   "cell_type": "code",
   "execution_count": 11,
   "metadata": {},
   "outputs": [
    {
     "name": "stdout",
     "output_type": "stream",
     "text": [
      "Not same\n"
     ]
    },
    {
     "ename": "TypeError",
     "evalue": "'>' not supported between instances of 'int' and 'str'",
     "output_type": "error",
     "traceback": [
      "\u001b[1;31m---------------------------------------------------------------------------\u001b[0m",
      "\u001b[1;31mTypeError\u001b[0m                                 Traceback (most recent call last)",
      "\u001b[1;32m<ipython-input-11-5f5e47411424>\u001b[0m in \u001b[0;36m<module>\u001b[1;34m\u001b[0m\n\u001b[0;32m      8\u001b[0m \u001b[1;32melse\u001b[0m\u001b[1;33m:\u001b[0m\u001b[1;33m\u001b[0m\u001b[1;33m\u001b[0m\u001b[0m\n\u001b[0;32m      9\u001b[0m     \u001b[0mprint\u001b[0m\u001b[1;33m(\u001b[0m\u001b[1;34m'Same'\u001b[0m\u001b[1;33m)\u001b[0m\u001b[1;33m\u001b[0m\u001b[1;33m\u001b[0m\u001b[0m\n\u001b[1;32m---> 10\u001b[1;33m \u001b[0mprint\u001b[0m\u001b[1;33m(\u001b[0m\u001b[1;34m'Maximum element in tuple 1,2: '\u001b[0m\u001b[1;33m+\u001b[0m \u001b[0mstr\u001b[0m\u001b[1;33m(\u001b[0m\u001b[0mmax\u001b[0m\u001b[1;33m(\u001b[0m\u001b[0mtuple1\u001b[0m\u001b[1;33m)\u001b[0m\u001b[1;33m)\u001b[0m \u001b[1;33m+\u001b[0m \u001b[1;34m','\u001b[0m \u001b[1;33m+\u001b[0m \u001b[0mstr\u001b[0m\u001b[1;33m(\u001b[0m\u001b[0mmax\u001b[0m\u001b[1;33m(\u001b[0m\u001b[0mtuple2\u001b[0m\u001b[1;33m)\u001b[0m\u001b[1;33m)\u001b[0m\u001b[1;33m)\u001b[0m\u001b[1;33m\u001b[0m\u001b[1;33m\u001b[0m\u001b[0m\n\u001b[0m\u001b[0;32m     11\u001b[0m \u001b[1;33m\u001b[0m\u001b[0m\n\u001b[0;32m     12\u001b[0m \u001b[0mprint\u001b[0m\u001b[1;33m(\u001b[0m\u001b[1;34m'Minimum element in tuple 1,2: '\u001b[0m \u001b[1;33m+\u001b[0m \u001b[0mstr\u001b[0m\u001b[1;33m(\u001b[0m\u001b[0mmin\u001b[0m\u001b[1;33m(\u001b[0m\u001b[0mtuple1\u001b[0m\u001b[1;33m)\u001b[0m\u001b[1;33m)\u001b[0m \u001b[1;33m+\u001b[0m \u001b[1;34m','\u001b[0m \u001b[1;33m+\u001b[0m \u001b[0mstr\u001b[0m\u001b[1;33m(\u001b[0m\u001b[0mmin\u001b[0m\u001b[1;33m(\u001b[0m\u001b[0mtuple2\u001b[0m\u001b[1;33m)\u001b[0m\u001b[1;33m)\u001b[0m\u001b[1;33m)\u001b[0m\u001b[1;33m\u001b[0m\u001b[1;33m\u001b[0m\u001b[0m\n",
      "\u001b[1;31mTypeError\u001b[0m: '>' not supported between instances of 'int' and 'str'"
     ]
    }
   ],
   "source": [
    "#a python program to demonstrate the use of\n",
    "#cmp(), max(), min()\n",
    "\n",
    "tuple1 = ('python', 'geek')\n",
    "tuple2 = ('coder', 1)\n",
    "if ((tuple, tuple2)!=0):\n",
    "    print('Not same')\n",
    "else:\n",
    "    print('Same')\n",
    "print('Maximum element in tuple 1,2: '+ str(max(tuple1)) + ',' + str(max(tuple2)))\n",
    "\n",
    "print('Minimum element in tuple 1,2: ' + str(min(tuple1)) + ',' + str(min(tuple2)))\n",
    "\n"
   ]
  },
  {
   "cell_type": "code",
   "execution_count": 12,
   "metadata": {},
   "outputs": [
    {
     "name": "stdout",
     "output_type": "stream",
     "text": [
      "('python', 'geek', 'coder', 1)\n",
      "('python', 'chemistry', 1997, 2000)\n"
     ]
    }
   ],
   "source": [
    "#concatenation of objects in tuple\n",
    "tup1= ('python', 'geek')\n",
    "tup2= ('coder', 1)\n",
    "tup3= tup1 + tup2;\n",
    "print(tup3)\n",
    "tup=('python', 'chemistry', 1997, 2000);\n",
    "print(tup)\n",
    "del tup;\n"
   ]
  },
  {
   "cell_type": "code",
   "execution_count": 13,
   "metadata": {},
   "outputs": [
    {
     "name": "stdout",
     "output_type": "stream",
     "text": [
      "('Virat', 'Ram', 'Shyam', 'Joduu', 'Moduu', 'Jay', 'Ray', 'Mark', 'Rick', 'Morty', 'Bean', 'Jon', 'Daenerys', 'Sansa', 'Arya', 'Reek', 'Srijita', 'Saptarshi', 'Soumyajit', 'Elija', 'Shreshtha', 'Akash', 'Tiyasha', 'Shis', 'Triparna', 'Apurba', 'Gaurab', 'Sujoy', 'Pratik', 'Sourya', 'Sandipan', 'Trishita', 'Bukai', 'Aditi', 'Emily', 'Gargi', 'Sujit', 'Rintu', 'Debapam', 'Archika')\n",
      "(34, 56, 78, 23, 45, 68, 78, 56, 45, 34, 54, 45, 56, 76, 78, 12, 34, 23, 45, 67, 45, 34, 23, 45, 23, 23, 34, 22, 33, 45, 76, 45, 57, 35, 56, 23, 56, 6, 42, 78)\n",
      "('Cholera', 'Viral Fever', 'Dengue', 'Marasmus', 'Cholera', 'Leukemia', 'Bone Marrow Cancer', 'Skin Cancer', 'AIDS', 'Syphillis', 'Ebola', 'Dirrhoea', 'Cholera', 'Dengue', 'Syphillis', 'AIDS', 'Elbow Fracture', 'AIDS', 'Dengue', 'Dengue', 'Viral Fever', 'Food Poisoning', 'Pneumonia', 'Low Blood perssure', 'Skin Cancer', 'Typhoid', 'Dysentry', 'Chicken Pox', 'Small Pox', 'Piles', 'Fistula', 'Diptheria', 'Cholera', 'High Cholesterol', 'Chicken Pox', 'Chicken Pox', 'Viral Fever', 'Child Birth', 'Diarrhoea', 'Viral Fever')\n",
      "('doxycycline', 'Crocin', 'Paracetamol', 'Z-Clinz', 'clindamycin', 'benzoyl peroxide combinationZ-Pak', 'azithromycin', 'Zaditor', 'ketotifen-ophthalmic', 'zafirlukast', 'ZAFIRLUKAST ORAL', 'Zagam', 'sparfloxacin-oral', 'zalcitabine', 'zaleplon', 'doxycycline', 'Crocin', 'Paracetamol', 'Z-Clinz', 'clindamycin', 'doxycycline', 'Crocin', 'Paracetamol', 'Z-Clinz', 'clindamycin', 'doxycycline', 'Crocin', 'Paracetamol', 'Z-Clinz', 'clindamycin', 'doxycycline', 'Crocin', 'Paracetamol', 'Z-Clinz', 'clindamycin', 'doxycycline', 'Crocin', 'Paracetamol', 'Z-Clinz', 'clindamycin')\n"
     ]
    }
   ],
   "source": [
    "import matplotlib.pyplot as plt\n",
    "import pandas as pd\n",
    "import numpy as np\n",
    "%matplotlib inline\n",
    "\n",
    "\n",
    "patient_name_tup=('Virat','Ram','Shyam','Joduu','Moduu','Jay','Ray','Mark','Rick','Morty','Bean','Jon','Daenerys','Sansa','Arya','Reek','Srijita','Saptarshi','Soumyajit','Elija','Shreshtha','Akash','Tiyasha','Shis','Triparna','Apurba','Gaurab','Sujoy','Pratik','Sourya','Sandipan','Trishita','Bukai','Aditi','Emily','Gargi','Sujit','Rintu','Debapam','Archika')\n",
    "patient_age_tup=(34,56,78,23,45,68,78,56,45,34,54,45,56,76,78,12,34,23,45,67,45,34,23,45,23,23,34,22,33,45,76,45,57,35,56,23,56,6,42,78)\n",
    "disease_name_tup=('Cholera','Viral Fever','Dengue','Marasmus','Cholera','Leukemia','Bone Marrow Cancer','Skin Cancer','AIDS','Syphillis','Ebola','Dirrhoea','Cholera','Dengue','Syphillis','AIDS','Elbow Fracture','AIDS','Dengue','Dengue','Viral Fever','Food Poisoning','Pneumonia','Low Blood perssure','Skin Cancer','Typhoid','Dysentry','Chicken Pox','Small Pox','Piles','Fistula','Diptheria','Cholera','High Cholesterol','Chicken Pox','Chicken Pox','Viral Fever','Child Birth','Diarrhoea','Viral Fever')\n",
    "medicine_name_tup=('doxycycline','Crocin','Paracetamol','Z-Clinz','clindamycin','benzoyl peroxide combination''Z-Pak','azithromycin','Zaditor','ketotifen-ophthalmic','zafirlukast','ZAFIRLUKAST ORAL','Zagam','sparfloxacin-oral','zalcitabine','zaleplon','doxycycline','Crocin','Paracetamol','Z-Clinz','clindamycin','doxycycline','Crocin','Paracetamol','Z-Clinz','clindamycin','doxycycline','Crocin','Paracetamol','Z-Clinz','clindamycin','doxycycline','Crocin','Paracetamol','Z-Clinz','clindamycin','doxycycline','Crocin','Paracetamol','Z-Clinz','clindamycin')\n",
    "\n",
    "print(patient_name_tup)\n",
    "print(patient_age_tup)\n",
    "print(disease_name_tup)\n",
    "print(medicine_name_tup)"
   ]
  },
  {
   "cell_type": "code",
   "execution_count": 15,
   "metadata": {},
   "outputs": [
    {
     "data": {
      "image/png": "[encoded data removed]",
      "text/plain": [
       "<Figure size 432x288 with 1 Axes>"
      ]
     },
     "metadata": {
      "needs_background": "light"
     },
     "output_type": "display_data"
    },
    {
     "data": {
      "image/png": "[encoded data removed]",
      "text/plain": [
       "<Figure size 432x288 with 1 Axes>"
      ]
     },
     "metadata": {
      "needs_background": "light"
     },
     "output_type": "display_data"
    },
    {
     "data": {
      "image/png": "[encoded data removed]",
      "text/plain": [
       "<Figure size 432x288 with 1 Axes>"
      ]
     },
     "metadata": {
      "needs_background": "light"
     },
     "output_type": "display_data"
    },
    {
     "ename": "ValueError",
     "evalue": "Expected 2D array, got scalar array instead:\narray=6.5.\nReshape your data either using array.reshape(-1, 1) if your data has a single feature or array.reshape(1, -1) if it contains a single sample.",
     "output_type": "error",
     "traceback": [
      "\u001b[1;31m---------------------------------------------------------------------------\u001b[0m",
      "\u001b[1;31mValueError\u001b[0m                                Traceback (most recent call last)",
      "\u001b[1;32m<ipython-input-15-6a84a47a1e64>\u001b[0m in \u001b[0;36m<module>\u001b[1;34m\u001b[0m\n\u001b[0;32m     63\u001b[0m \u001b[1;33m\u001b[0m\u001b[0m\n\u001b[0;32m     64\u001b[0m \u001b[1;31m# Predicting a new result with Linear Regression\u001b[0m\u001b[1;33m\u001b[0m\u001b[1;33m\u001b[0m\u001b[1;33m\u001b[0m\u001b[0m\n\u001b[1;32m---> 65\u001b[1;33m \u001b[0mlin_reg\u001b[0m\u001b[1;33m.\u001b[0m\u001b[0mpredict\u001b[0m\u001b[1;33m(\u001b[0m\u001b[1;36m6.5\u001b[0m\u001b[1;33m)\u001b[0m\u001b[1;33m\u001b[0m\u001b[1;33m\u001b[0m\u001b[0m\n\u001b[0m\u001b[0;32m     66\u001b[0m \u001b[1;33m\u001b[0m\u001b[0m\n\u001b[0;32m     67\u001b[0m \u001b[1;31m# Predicting a new result with Polynomial Regression\u001b[0m\u001b[1;33m\u001b[0m\u001b[1;33m\u001b[0m\u001b[1;33m\u001b[0m\u001b[0m\n",
      "\u001b[1;32m~\\Anaconda3\\lib\\site-packages\\sklearn\\linear_model\\base.py\u001b[0m in \u001b[0;36mpredict\u001b[1;34m(self, X)\u001b[0m\n\u001b[0;32m    211\u001b[0m             \u001b[0mReturns\u001b[0m \u001b[0mpredicted\u001b[0m \u001b[0mvalues\u001b[0m\u001b[1;33m.\u001b[0m\u001b[1;33m\u001b[0m\u001b[1;33m\u001b[0m\u001b[0m\n\u001b[0;32m    212\u001b[0m         \"\"\"\n\u001b[1;32m--> 213\u001b[1;33m         \u001b[1;32mreturn\u001b[0m \u001b[0mself\u001b[0m\u001b[1;33m.\u001b[0m\u001b[0m_decision_function\u001b[0m\u001b[1;33m(\u001b[0m\u001b[0mX\u001b[0m\u001b[1;33m)\u001b[0m\u001b[1;33m\u001b[0m\u001b[1;33m\u001b[0m\u001b[0m\n\u001b[0m\u001b[0;32m    214\u001b[0m \u001b[1;33m\u001b[0m\u001b[0m\n\u001b[0;32m    215\u001b[0m     \u001b[0m_preprocess_data\u001b[0m \u001b[1;33m=\u001b[0m \u001b[0mstaticmethod\u001b[0m\u001b[1;33m(\u001b[0m\u001b[0m_preprocess_data\u001b[0m\u001b[1;33m)\u001b[0m\u001b[1;33m\u001b[0m\u001b[1;33m\u001b[0m\u001b[0m\n",
      "\u001b[1;32m~\\Anaconda3\\lib\\site-packages\\sklearn\\linear_model\\base.py\u001b[0m in \u001b[0;36m_decision_function\u001b[1;34m(self, X)\u001b[0m\n\u001b[0;32m    194\u001b[0m         \u001b[0mcheck_is_fitted\u001b[0m\u001b[1;33m(\u001b[0m\u001b[0mself\u001b[0m\u001b[1;33m,\u001b[0m \u001b[1;34m\"coef_\"\u001b[0m\u001b[1;33m)\u001b[0m\u001b[1;33m\u001b[0m\u001b[1;33m\u001b[0m\u001b[0m\n\u001b[0;32m    195\u001b[0m \u001b[1;33m\u001b[0m\u001b[0m\n\u001b[1;32m--> 196\u001b[1;33m         \u001b[0mX\u001b[0m \u001b[1;33m=\u001b[0m \u001b[0mcheck_array\u001b[0m\u001b[1;33m(\u001b[0m\u001b[0mX\u001b[0m\u001b[1;33m,\u001b[0m \u001b[0maccept_sparse\u001b[0m\u001b[1;33m=\u001b[0m\u001b[1;33m[\u001b[0m\u001b[1;34m'csr'\u001b[0m\u001b[1;33m,\u001b[0m \u001b[1;34m'csc'\u001b[0m\u001b[1;33m,\u001b[0m \u001b[1;34m'coo'\u001b[0m\u001b[1;33m]\u001b[0m\u001b[1;33m)\u001b[0m\u001b[1;33m\u001b[0m\u001b[1;33m\u001b[0m\u001b[0m\n\u001b[0m\u001b[0;32m    197\u001b[0m         return safe_sparse_dot(X, self.coef_.T,\n\u001b[0;32m    198\u001b[0m                                dense_output=True) + self.intercept_\n",
      "\u001b[1;32m~\\Anaconda3\\lib\\site-packages\\sklearn\\utils\\validation.py\u001b[0m in \u001b[0;36mcheck_array\u001b[1;34m(array, accept_sparse, accept_large_sparse, dtype, order, copy, force_all_finite, ensure_2d, allow_nd, ensure_min_samples, ensure_min_features, warn_on_dtype, estimator)\u001b[0m\n\u001b[0;32m    543\u001b[0m                     \u001b[1;34m\"Reshape your data either using array.reshape(-1, 1) if \"\u001b[0m\u001b[1;33m\u001b[0m\u001b[1;33m\u001b[0m\u001b[0m\n\u001b[0;32m    544\u001b[0m                     \u001b[1;34m\"your data has a single feature or array.reshape(1, -1) \"\u001b[0m\u001b[1;33m\u001b[0m\u001b[1;33m\u001b[0m\u001b[0m\n\u001b[1;32m--> 545\u001b[1;33m                     \"if it contains a single sample.\".format(array))\n\u001b[0m\u001b[0;32m    546\u001b[0m             \u001b[1;31m# If input is 1D raise error\u001b[0m\u001b[1;33m\u001b[0m\u001b[1;33m\u001b[0m\u001b[1;33m\u001b[0m\u001b[0m\n\u001b[0;32m    547\u001b[0m             \u001b[1;32mif\u001b[0m \u001b[0marray\u001b[0m\u001b[1;33m.\u001b[0m\u001b[0mndim\u001b[0m \u001b[1;33m==\u001b[0m \u001b[1;36m1\u001b[0m\u001b[1;33m:\u001b[0m\u001b[1;33m\u001b[0m\u001b[1;33m\u001b[0m\u001b[0m\n",
      "\u001b[1;31mValueError\u001b[0m: Expected 2D array, got scalar array instead:\narray=6.5.\nReshape your data either using array.reshape(-1, 1) if your data has a single feature or array.reshape(1, -1) if it contains a single sample."
     ]
    }
   ],
   "source": [
    "# Polynomial Regression\n",
    "\n",
    "# Importing the libraries\n",
    "import numpy as np\n",
    "import matplotlib.pyplot as plt\n",
    "import pandas as pd\n",
    "\n",
    "%matplotlib inline\n",
    "\n",
    "# Importing the dataset\n",
    "dataset = pd.read_csv('C:/Users/TUKAI/Desktop/Position_Salaries.csv')\n",
    "X = dataset.iloc[:, 1:2].values\n",
    "y = dataset.iloc[:, 2].values\n",
    "\n",
    "# Splitting the dataset into the Training set and Test set\n",
    "\"\"\"from sklearn.cross_validation import train_test_split\n",
    "X_train, X_test, y_train, y_test = train_test_split(X, y, test_size = 0.2, random_state = 0)\"\"\"\n",
    "\n",
    "# Feature Scaling\n",
    "\"\"\"from sklearn.preprocessing import StandardScaler\n",
    "sc_X = StandardScaler()\n",
    "X_train = sc_X.fit_transform(X_train)\n",
    "X_test = sc_X.transform(X_test)\"\"\"\n",
    "\n",
    "# Fitting Linear Regression to the dataset\n",
    "from sklearn.linear_model import LinearRegression\n",
    "lin_reg = LinearRegression()\n",
    "lin_reg.fit(X, y)\n",
    "\n",
    "# Fitting Polynomial Regression to the dataset\n",
    "from sklearn.preprocessing import PolynomialFeatures\n",
    "poly_reg = PolynomialFeatures(degree = 4)\n",
    "X_poly = poly_reg.fit_transform(X)\n",
    "poly_reg.fit(X_poly, y)\n",
    "lin_reg_2 = LinearRegression()\n",
    "lin_reg_2.fit(X_poly, y)\n",
    "\n",
    "# Visualising the Linear Regression results\n",
    "plt.scatter(X, y, color = 'red')\n",
    "plt.plot(X, lin_reg.predict(X), color = 'blue')\n",
    "plt.title('Truth or Bluff (Linear Regression)')\n",
    "plt.xlabel('Position level')\n",
    "plt.ylabel('Salary')\n",
    "plt.show()\n",
    "\n",
    "# Visualising the Polynomial Regression results\n",
    "plt.scatter(X, y, color = 'red')\n",
    "plt.plot(X, lin_reg_2.predict(poly_reg.fit_transform(X)), color = 'blue')\n",
    "plt.title('Truth or Bluff (Polynomial Regression)')\n",
    "plt.xlabel('Position level')\n",
    "plt.ylabel('Salary')\n",
    "plt.show()\n",
    "\n",
    "# Visualising the Polynomial Regression results (for higher resolution and smoother curve)\n",
    "X_grid = np.arange(min(X), max(X), 0.1)\n",
    "X_grid = X_grid.reshape((len(X_grid), 1))\n",
    "plt.scatter(X, y, color = 'red')\n",
    "plt.plot(X_grid, lin_reg_2.predict(poly_reg.fit_transform(X_grid)), color = 'blue')\n",
    "plt.title('Truth or Bluff (Polynomial Regression)')\n",
    "plt.xlabel('Position level')\n",
    "plt.ylabel('Salary')\n",
    "plt.show()\n",
    "\n",
    "# Predicting a new result with Linear Regression\n",
    "lin_reg.predict(6.5)\n",
    "\n",
    "# Predicting a new result with Polynomial Regression\n",
    "lin_reg_2.predict(poly_reg.fit_transform(6.5))\n"
   ]
  },
  {
   "cell_type": "code",
   "execution_count": 16,
   "metadata": {},
   "outputs": [
    {
     "data": {
      "image/png": "[encoded data removed]",
      "text/plain": [
       "<Figure size 432x288 with 1 Axes>"
      ]
     },
     "metadata": {},
     "output_type": "display_data"
    }
   ],
   "source": [
    "#doing linear regression on two datasets\n",
    "import matplotlib.pyplot as plt\n",
    "import pandas as pd\n",
    "import numpy as np\n",
    "\n",
    "\n",
    "%matplotlib inline\n",
    "\n",
    "patient_data_set={'Serial ID':[2019001,2019002,2019003,2019004,2019005,2019006,2019007,2019008,2019009,2019010,2019011,2019012,2019013,2019014,2019015,2019016,2019017,2019018,2019019,2019020,2019021,2019022,2019023,2019024,2019025,2019026,2019027,2019028,2019029,2019030,2019031,2019032,2019033,2019034,2019035,2019036,2019037,2019038,2019039,2019040],'NAME':['Virat','Ram','Shyam','Joduu','Moduu','Jay','Ray','Mark','Rick','Morty','Bean','Jon','Daenerys','Sansa','Arya','Reek','Srijita','Saptarshi','Soumyajit','Elija','Shreshtha','Akash','Tiyasha','Shis','Triparna','Apurba','Gaurab','Sujoy','Pratik','Sourya','Sandipan','Trishita','Bukai','Aditi','Emily','Gargi','Sujit','Rintu','Debapam','Archika'],'Patient Age':[34,56,78,23,45,68,78,56,45,34,54,45,56,76,78,12,34,23,45,67,45,34,23,45,23,23,34,22,33,45,76,45,57,35,56,23,56,6,42,78]}\n",
    "disease_data_set={'Disease NAME':['Cholera','Viral Fever','Dengue','Marasmus','Cholera','Leukemia','Bone Marrow Cancer','Skin Cancer','AIDS','Syphillis','Ebola','Dirrhoea','Cholera','Dengue','Syphillis','AIDS','Elbow Fracture','AIDS','Dengue','Dengue','Viral Fever','Food Poisoning','Pneumonia','Low Blood perssure','Skin Cancer','Typhoid','Dysentry','Chicken Pox','Small Pox','Piles','Fistula','Diptheria','Cholera','High Cholesterol','Chicken Pox','Chicken Pox','Viral Fever','Child Birth','Diarrhoea','Viral Fever']}\n",
    "medicine_data_set={'Medicine Name':['doxycycline','Crocin','Paracetamol','Z-Clinz','clindamycin','benzoyl peroxide combination''Z-Pak','azithromycin','Zaditor','ketotifen-ophthalmic','zafirlukast','ZAFIRLUKAST ORAL','Zagam','sparfloxacin-oral','zalcitabine','zaleplon','doxycycline','Crocin','Paracetamol','Z-Clinz','clindamycin','doxycycline','Crocin','Paracetamol','Z-Clinz','clindamycin','doxycycline','Crocin','Paracetamol','Z-Clinz','clindamycin','doxycycline','Crocin','Paracetamol','Z-Clinz','clindamycin','doxycycline','Crocin','Paracetamol','Z-Clinz','clindamycin',],'Medicine Price(Rs.)':[290,140,450,789,340,290,140,450,789,340,290,140,450,789,340,290,140,450,789,340,290,140,450,789,340,290,140,450,789,340,290,140,450,789,340,290,140,450,789,340]}\n",
    "doctor_data_set={'Doctor Name':['Dr. Ashok Banerjee','Dr. Ashok Ghosh','Dr. Badal Banerjee','Dr. Supratim Dutta','Dr. Arnab Mondal','Dr. Arnab Dey','Dr. Baisakhi Mondal','Dr. Pallabi Mondal','Dr. Shalini Pandey','Dr. Kanishka Majumder','Dr. Shyam Ghosh','Dr. Arnab Pandey','Dr. Badal Mondal','Dr. Saptarshi Sarkar','Dr. Anirban Majumder','Dr. Anurag Pandey','Dr. Soumyajit Raha','Dr. Shankha Dey','Dr. Tuhin Mukherjee','Dr. Aman Singh','Dr. Sujoy Roy','Dr. Brototi Chakraborty','Dr. Sandipan Gupta','Dr. Tapas Tiwary','Dr. Amit Nandy','Dr. Samrat Bose','Dr. Lipika Paul','Dr. Shritama Ghosh','Dr. Rajib Dey','Dr. Barnali Mondal','Dr. Gargi Ghosh','Dr. Sharmita Kundu','Dr. Sudin Kundu','Dr. Sharmana Chatterjee','Dr. Ajit Bose','Dr. Samaresh Bose','Dr. Sohini Mukherjee','Dr. Subham Das','Dr. Subham Dey','Dr. Arnab Sarkar'],'SPECIALIZATION':['Cardiologist','Cancer','Addiction psychiatrist','Adolescent medicine specialist','Allergist','Anesthesiologis','Cardiac electrophysiologist','Cardiologist','Cardiovascular surgeon','Colon rectal surgeon','Cardiologist','Cancer','Addiction psychiatrist','Adolescent medicine specialist','Allergist','Anesthesiologis','Cardiac electrophysiologist','Cardiologist','Cardiovascular surgeon','Colon rectal surgeon','Cardiologist','Cancer','Addiction psychiatrist','Adolescent medicine specialist','Allergist','Anesthesiologis','Cardiac electrophysiologist','Cardiologist','Cardiovascular surgeon','Colon rectal surgeon','Cardiologist','Cancer','Addiction psychiatrist','Adolescent medicine specialist','Allergist','Anesthesiologis','Cardiac electrophysiologist','Cardiologist','Cardiovascular surgeon','Colon rectal surgeon']}\n",
    "\n",
    "\n",
    "patient_dataframe=pd.DataFrame(patient_data_set)\n",
    "disease_dataframe=pd.DataFrame(disease_data_set)\n",
    "medicine_dataframe=pd.DataFrame(medicine_data_set)\n",
    "doctor_dataframe=pd.DataFrame(doctor_data_set)\n",
    "\n",
    "\n",
    "\n",
    "dataframe=patient_dataframe.join(disease_dataframe).join(medicine_dataframe).join(doctor_dataframe)\n",
    "\n",
    "\n",
    "dataframe.to_csv(\"C:/Users/TUKAI/Desktop/lin_reg_file.csv\")\n",
    "\n",
    "\n",
    "\n",
    "X= patient_dataframe[['Patient Age']]\n",
    "Y= patient_dataframe['Serial ID']\n",
    "\n",
    "# Split the DATA into training/testing sets\n",
    "from sklearn.model_selection import train_test_split\n",
    "x_train,x_test,y_train, y_test = train_test_split(X,Y,test_size=0.2)\n",
    "\n",
    "# Split the TARGETS into training/testing sets\n",
    "from sklearn.linear_model import LinearRegression\n",
    "# Create linear regression object\n",
    "regr = LinearRegression()\n",
    "\n",
    "# Train the model using the training sets\n",
    "regr.fit(x_train, y_train)\n",
    "\n",
    "# Make predictions using the testing set\n",
    "y_pred = regr.predict(x_test)\n",
    "\n",
    "# Plot outputs\n",
    "plt.scatter(x_train, y_train, color = 'blue')\n",
    "plt.plot(x_test, y_pred, color = 'black', linewidth = 2)\n",
    "plt.title('Truth or Bluff (Linear Regression)')\n",
    "plt.xlabel('Patient Age')\n",
    "plt.ylabel('Serial ID')\n",
    "plt.xticks(())\n",
    "plt.yticks(())\n",
    "plt.show()"
   ]
  },
  {
   "cell_type": "code",
   "execution_count": 17,
   "metadata": {},
   "outputs": [
    {
     "data": {
      "image/png": "[encoded data removed]",
      "text/plain": [
       "<Figure size 432x288 with 1 Axes>"
      ]
     },
     "metadata": {},
     "output_type": "display_data"
    },
    {
     "data": {
      "image/png": "[encoded data removed]",
      "text/plain": [
       "<Figure size 432x288 with 1 Axes>"
      ]
     },
     "metadata": {
      "needs_background": "light"
     },
     "output_type": "display_data"
    },
    {
     "ename": "TypeError",
     "evalue": "unsupported operand type(s) for -: 'str' and 'str'",
     "output_type": "error",
     "traceback": [
      "\u001b[1;31m---------------------------------------------------------------------------\u001b[0m",
      "\u001b[1;31mTypeError\u001b[0m                                 Traceback (most recent call last)",
      "\u001b[1;32m<ipython-input-17-4e2abd713f27>\u001b[0m in \u001b[0;36m<module>\u001b[1;34m\u001b[0m\n\u001b[0;32m     74\u001b[0m \u001b[1;33m\u001b[0m\u001b[0m\n\u001b[0;32m     75\u001b[0m \u001b[1;31m# Visualising the Polynomial Regression results (for higher resolution and smoother curve)\u001b[0m\u001b[1;33m\u001b[0m\u001b[1;33m\u001b[0m\u001b[1;33m\u001b[0m\u001b[0m\n\u001b[1;32m---> 76\u001b[1;33m \u001b[0mX_grid\u001b[0m \u001b[1;33m=\u001b[0m \u001b[0mnp\u001b[0m\u001b[1;33m.\u001b[0m\u001b[0marange\u001b[0m\u001b[1;33m(\u001b[0m\u001b[0mmin\u001b[0m\u001b[1;33m(\u001b[0m\u001b[0mX\u001b[0m\u001b[1;33m)\u001b[0m\u001b[1;33m,\u001b[0m \u001b[0mmax\u001b[0m\u001b[1;33m(\u001b[0m\u001b[0mX\u001b[0m\u001b[1;33m)\u001b[0m\u001b[1;33m,\u001b[0m \u001b[1;36m0.1\u001b[0m\u001b[1;33m)\u001b[0m\u001b[1;33m\u001b[0m\u001b[1;33m\u001b[0m\u001b[0m\n\u001b[0m\u001b[0;32m     77\u001b[0m \u001b[0mX_grid\u001b[0m \u001b[1;33m=\u001b[0m \u001b[0mX_grid\u001b[0m\u001b[1;33m.\u001b[0m\u001b[0mreshape\u001b[0m\u001b[1;33m(\u001b[0m\u001b[1;33m(\u001b[0m\u001b[0mlen\u001b[0m\u001b[1;33m(\u001b[0m\u001b[0mX_grid\u001b[0m\u001b[1;33m)\u001b[0m\u001b[1;33m,\u001b[0m \u001b[1;36m1\u001b[0m\u001b[1;33m)\u001b[0m\u001b[1;33m)\u001b[0m\u001b[1;33m\u001b[0m\u001b[1;33m\u001b[0m\u001b[0m\n\u001b[0;32m     78\u001b[0m \u001b[0mplt\u001b[0m\u001b[1;33m.\u001b[0m\u001b[0mscatter\u001b[0m\u001b[1;33m(\u001b[0m\u001b[0mX\u001b[0m\u001b[1;33m,\u001b[0m \u001b[0mY\u001b[0m\u001b[1;33m,\u001b[0m \u001b[0mcolor\u001b[0m \u001b[1;33m=\u001b[0m \u001b[1;34m'red'\u001b[0m\u001b[1;33m)\u001b[0m\u001b[1;33m\u001b[0m\u001b[1;33m\u001b[0m\u001b[0m\n",
      "\u001b[1;31mTypeError\u001b[0m: unsupported operand type(s) for -: 'str' and 'str'"
     ]
    }
   ],
   "source": [
    "#doing polynomial regression \n",
    "import matplotlib.pyplot as plt\n",
    "import pandas as pd\n",
    "import numpy as np\n",
    "\n",
    "import seaborn as sns; sns.set()\n",
    "%matplotlib inline\n",
    "\n",
    "patient_data_set={'Serial ID':[2019001,2019002,2019003,2019004,2019005,2019006,2019007,2019008,2019009,2019010,2019011,2019012,2019013,2019014,2019015,2019016,2019017,2019018,2019019,2019020,2019021,2019022,2019023,2019024,2019025,2019026,2019027,2019028,2019029,2019030,2019031,2019032,2019033,2019034,2019035,2019036,2019037,2019038,2019039,2019040],'NAME':['Virat','Ram','Shyam','Joduu','Moduu','Jay','Ray','Mark','Rick','Morty','Bean','Jon','Daenerys','Sansa','Arya','Reek','Srijita','Saptarshi','Soumyajit','Elija','Shreshtha','Akash','Tiyasha','Shis','Triparna','Apurba','Gaurab','Sujoy','Pratik','Sourya','Sandipan','Trishita','Bukai','Aditi','Emily','Gargi','Sujit','Rintu','Debapam','Archika'],'Patient Age':[34,56,78,23,45,68,78,56,45,34,54,45,56,76,78,12,34,23,45,67,45,34,23,45,23,23,34,22,33,45,76,45,57,35,56,23,56,6,42,78]}\n",
    "disease_data_set={'Disease NAME':['Cholera','Viral Fever','Dengue','Marasmus','Cholera','Leukemia','Bone Marrow Cancer','Skin Cancer','AIDS','Syphillis','Ebola','Dirrhoea','Cholera','Dengue','Syphillis','AIDS','Elbow Fracture','AIDS','Dengue','Dengue','Viral Fever','Food Poisoning','Pneumonia','Low Blood perssure','Skin Cancer','Typhoid','Dysentry','Chicken Pox','Small Pox','Piles','Fistula','Diptheria','Cholera','High Cholesterol','Chicken Pox','Chicken Pox','Viral Fever','Child Birth','Diarrhoea','Viral Fever']}\n",
    "medicine_data_set={'Medicine ID':[1,2,3,4,5,6,7,8,9,10,11,12,13,14,15,16,17,18,19,20,21,22,23,24,25,26,27,28,29,30,31,32,33,34,35,36,37,38,39,40],'Medicine Name':['doxycycline','Crocin','Paracetamol','Z-Clinz','clindamycin','benzoyl peroxide combination''Z-Pak','azithromycin','Zaditor','ketotifen-ophthalmic','zafirlukast','ZAFIRLUKAST ORAL','Zagam','sparfloxacin-oral','zalcitabine','zaleplon','doxycycline','Crocin','Paracetamol','Z-Clinz','clindamycin','doxycycline','Crocin','Paracetamol','Z-Clinz','clindamycin','doxycycline','Crocin','Paracetamol','Z-Clinz','clindamycin','doxycycline','Crocin','Paracetamol','Z-Clinz','clindamycin','doxycycline','Crocin','Paracetamol','Z-Clinz','clindamycin',],'Medicine Price(Rs.)':[45000,55000,65000,76000,88000,99000,111000,230098,345987,787987,897890,999000,1234567,3456787,4565678,6678765,7786545,8898788,9999999,10101019,34433456,55645654,67000000,78000000,98000000,234500000,345600000,678700000,879800000,990000000,3456990000,546000000,5677600000,7898700000,8998900000,9987600000,23456700000,45676500000,5677890000,56789800000]}\n",
    "doctor_data_set={'Doctor Name':['Dr. Ashok Banerjee','Dr. Ashok Ghosh','Dr. Badal Banerjee','Dr. Supratim Dutta','Dr. Arnab Mondal','Dr. Arnab Dey','Dr. Baisakhi Mondal','Dr. Pallabi Mondal','Dr. Shalini Pandey','Dr. Kanishka Majumder','Dr. Shyam Ghosh','Dr. Arnab Pandey','Dr. Badal Mondal','Dr. Saptarshi Sarkar','Dr. Anirban Majumder','Dr. Anurag Pandey','Dr. Soumyajit Raha','Dr. Shankha Dey','Dr. Tuhin Mukherjee','Dr. Aman Singh','Dr. Sujoy Roy','Dr. Brototi Chakraborty','Dr. Sandipan Gupta','Dr. Tapas Tiwary','Dr. Amit Nandy','Dr. Samrat Bose','Dr. Lipika Paul','Dr. Shritama Ghosh','Dr. Rajib Dey','Dr. Barnali Mondal','Dr. Gargi Ghosh','Dr. Sharmita Kundu','Dr. Sudin Kundu','Dr. Sharmana Chatterjee','Dr. Ajit Bose','Dr. Samaresh Bose','Dr. Sohini Mukherjee','Dr. Subham Das','Dr. Subham Dey','Dr. Arnab Sarkar'],'SPECIALIZATION':['Cardiologist','Cancer','Addiction psychiatrist','Adolescent medicine specialist','Allergist','Anesthesiologis','Cardiac electrophysiologist','Cardiologist','Cardiovascular surgeon','Colon rectal surgeon','Cardiologist','Cancer','Addiction psychiatrist','Adolescent medicine specialist','Allergist','Anesthesiologis','Cardiac electrophysiologist','Cardiologist','Cardiovascular surgeon','Colon rectal surgeon','Cardiologist','Cancer','Addiction psychiatrist','Adolescent medicine specialist','Allergist','Anesthesiologis','Cardiac electrophysiologist','Cardiologist','Cardiovascular surgeon','Colon rectal surgeon','Cardiologist','Cancer','Addiction psychiatrist','Adolescent medicine specialist','Allergist','Anesthesiologis','Cardiac electrophysiologist','Cardiologist','Cardiovascular surgeon','Colon rectal surgeon']}\n",
    "\n",
    "\n",
    "patient_dataframe=pd.DataFrame(patient_data_set)\n",
    "disease_dataframe=pd.DataFrame(disease_data_set)\n",
    "medicine_dataframe=pd.DataFrame(medicine_data_set)\n",
    "doctor_dataframe=pd.DataFrame(doctor_data_set)\n",
    "\n",
    "\n",
    "dataframe=patient_dataframe.join(disease_dataframe).join(medicine_dataframe).join(doctor_dataframe)\n",
    "\n",
    "\n",
    "dataframe.to_csv(\"C:/Users/TUKAI/Desktop/poly_reg.csv\")\n",
    "\n",
    "\n",
    "\n",
    "X= medicine_dataframe[['Medicine ID']]\n",
    "Y= medicine_dataframe['Medicine Price(Rs.)']\n",
    "\n",
    "# Split the DATA into training/testing sets\n",
    "from sklearn.model_selection import train_test_split\n",
    "x_train,x_test,y_train, y_test = train_test_split(X,Y,test_size=0.2)\n",
    "\n",
    "# Split the TARGETS into training/testing sets\n",
    "from sklearn.linear_model import LinearRegression\n",
    "# Create linear regression object\n",
    "lin_regr = LinearRegression()\n",
    "\n",
    "# Train the model using the training sets\n",
    "lin_regr.fit(x_train, y_train)\n",
    "\n",
    "# Make predictions using the testing set\n",
    "y_pred = lin_regr.predict(x_test)\n",
    "\n",
    "# Fitting Polynomial Regression to the dataset\n",
    "from sklearn.preprocessing import PolynomialFeatures\n",
    "poly_reg = PolynomialFeatures(degree = 4)\n",
    "X_poly = poly_reg.fit_transform(X)\n",
    "poly_reg.fit(X_poly, Y)\n",
    "lin_reg_2 = LinearRegression()\n",
    "lin_reg_2.fit(X_poly, Y)\n",
    "\n",
    "\n",
    "\n",
    "\n",
    "# Plot linear regression\n",
    "plt.scatter(x_train, y_train, color = 'blue')\n",
    "plt.plot(x_test, y_pred, color = 'black', linewidth = 2)\n",
    "plt.title('Truth or Bluff (Linear Regression)')\n",
    "plt.xlabel('Medicine Price')\n",
    "plt.ylabel('Medicine Serial ID')\n",
    "plt.xticks(())\n",
    "plt.yticks(())\n",
    "plt.show()\n",
    "\n",
    "# Visualising the Polynomial Regression results\n",
    "plt.scatter(X, Y, color = 'red')\n",
    "plt.plot(X, lin_reg_2.predict(poly_reg.fit_transform(X)), color = 'blue')\n",
    "plt.title('Truth or Bluff (Polynomial Regression)')\n",
    "plt.xlabel('Medicine Price')\n",
    "plt.ylabel('Medicine Serial ID')\n",
    "plt.show()\n",
    "\n",
    "# Visualising the Polynomial Regression results (for higher resolution and smoother curve)\n",
    "X_grid = np.arange(min(X), max(X), 0.1)\n",
    "X_grid = X_grid.reshape((len(X_grid), 1))\n",
    "plt.scatter(X, Y, color = 'red')\n",
    "plt.plot(X_grid, lin_reg_2.predict(poly_reg.fit_transform(X_grid)), color = 'blue')\n",
    "plt.title('Truth or Bluff (Polynomial Regression)')\n",
    "plt.xlabel('Medicine Price')\n",
    "plt.ylabel('Medicine Serial ID')\n",
    "plt.show()\n",
    "\n",
    "# Predicting a new result with Linear Regression\n",
    "lin_reg.predict(6.5)\n",
    "\n",
    "# Predicting a new result with Polynomial Regression\n",
    "lin_reg_2.predict(poly_reg.fit_transform(6.5))"
   ]
  }
 ],
 "metadata": {
  "kernelspec": {
   "display_name": "Python 3",
   "language": "python",
   "name": "python3"
  },
  "language_info": {
   "codemirror_mode": {
    "name": "ipython",
    "version": 3
   },
   "file_extension": ".py",
   "mimetype": "text/x-python",
   "name": "python",
   "nbconvert_exporter": "python",
   "pygments_lexer": "ipython3",
   "version": "3.7.3"
  }
 },
 "nbformat": 4,
 "nbformat_minor": 2
}
